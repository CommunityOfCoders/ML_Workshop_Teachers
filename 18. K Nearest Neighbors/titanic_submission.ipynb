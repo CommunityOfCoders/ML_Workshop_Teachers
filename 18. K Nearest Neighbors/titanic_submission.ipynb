{
 "cells": [
  {
   "cell_type": "code",
   "execution_count": null,
   "metadata": {
    "ExecuteTime": {
     "end_time": "2019-05-27T08:32:06.062535Z",
     "start_time": "2019-05-27T08:32:06.057548Z"
    }
   },
   "outputs": [],
   "source": [
    "import pandas as pd\n",
    "import numpy as np \n",
    "import matplotlib.pyplot as plt\n",
    "import seaborn as sns\n",
    "%matplotlib inline"
   ]
  },
  {
   "cell_type": "code",
   "execution_count": null,
   "metadata": {
    "ExecuteTime": {
     "end_time": "2019-05-27T08:32:06.082481Z",
     "start_time": "2019-05-27T08:32:06.064530Z"
    }
   },
   "outputs": [],
   "source": [
    "train = pd.read_csv(\"./input/titanic_train.csv\")\n",
    "test = pd.read_csv(\"./input/titanic_test.csv\")"
   ]
  },
  {
   "cell_type": "code",
   "execution_count": null,
   "metadata": {
    "ExecuteTime": {
     "end_time": "2019-05-27T08:32:06.087504Z",
     "start_time": "2019-05-27T08:32:06.083479Z"
    }
   },
   "outputs": [],
   "source": [
    "print(len(train),\"\\n\",len(test))"
   ]
  },
  {
   "cell_type": "code",
   "execution_count": null,
   "metadata": {
    "ExecuteTime": {
     "end_time": "2019-05-27T08:32:06.093452Z",
     "start_time": "2019-05-27T08:32:06.089462Z"
    }
   },
   "outputs": [],
   "source": [
    "#  We may create an entire model to predict age based off of other features.\n",
    "def impute_age(cols):\n",
    "    Age = cols[0] # First item in cols\n",
    "    Pclass = cols[1] # Second item\n",
    "    \n",
    "    if pd.isnull(Age):\n",
    "        \n",
    "        if Pclass == 1:\n",
    "            return 37\n",
    "        elif Pclass == 2:\n",
    "            return 29\n",
    "        else: # Not in first or second class means it is third class\n",
    "            return 24\n",
    "    else: #If age is null then we return some int based upon average age of that Pclass but if it is not then we do following :\n",
    "        return int(Age)"
   ]
  },
  {
   "cell_type": "code",
   "execution_count": null,
   "metadata": {
    "ExecuteTime": {
     "end_time": "2019-05-27T08:32:06.143344Z",
     "start_time": "2019-05-27T08:32:06.095447Z"
    }
   },
   "outputs": [],
   "source": [
    "train['Age'] = train[['Age','Pclass']].apply(impute_age,axis=1) # axis = 1 as we want to apply it across columns\n",
    "test['Age'] = train[['Age','Pclass']].apply(impute_age,axis=1)"
   ]
  },
  {
   "cell_type": "code",
   "execution_count": null,
   "metadata": {
    "ExecuteTime": {
     "end_time": "2019-05-27T08:32:06.149302Z",
     "start_time": "2019-05-27T08:32:06.144315Z"
    }
   },
   "outputs": [],
   "source": [
    "train.drop(\"Cabin\",axis=1, inplace=True)\n",
    "test.drop(\"Cabin\",axis=1, inplace=True)"
   ]
  },
  {
   "cell_type": "code",
   "execution_count": null,
   "metadata": {
    "ExecuteTime": {
     "end_time": "2019-05-27T08:32:06.165260Z",
     "start_time": "2019-05-27T08:32:06.150300Z"
    }
   },
   "outputs": [],
   "source": [
    "train.head()"
   ]
  },
  {
   "cell_type": "code",
   "execution_count": null,
   "metadata": {
    "ExecuteTime": {
     "end_time": "2019-05-27T08:32:06.170246Z",
     "start_time": "2019-05-27T08:32:06.166257Z"
    }
   },
   "outputs": [],
   "source": [
    "print(len(train),\"\\n\",len(test))"
   ]
  },
  {
   "cell_type": "code",
   "execution_count": null,
   "metadata": {
    "ExecuteTime": {
     "end_time": "2019-05-27T08:32:06.177227Z",
     "start_time": "2019-05-27T08:32:06.171274Z"
    }
   },
   "outputs": [],
   "source": [
    "train_dummy = pd.get_dummies(train['Sex'])\n",
    "test_dummy = pd.get_dummies(test['Sex'])"
   ]
  },
  {
   "cell_type": "code",
   "execution_count": null,
   "metadata": {
    "ExecuteTime": {
     "end_time": "2019-05-27T08:32:06.184209Z",
     "start_time": "2019-05-27T08:32:06.178225Z"
    }
   },
   "outputs": [],
   "source": [
    "train_sex = pd.get_dummies(train['Sex'],drop_first=True)\n",
    "test_sex = pd.get_dummies(test['Sex'],drop_first=True)"
   ]
  },
  {
   "cell_type": "code",
   "execution_count": null,
   "metadata": {
    "ExecuteTime": {
     "end_time": "2019-05-27T08:32:06.192188Z",
     "start_time": "2019-05-27T08:32:06.185207Z"
    }
   },
   "outputs": [],
   "source": [
    "train_embark = pd.get_dummies(train['Embarked'],drop_first=True)\n",
    "test_embark = pd.get_dummies(test['Embarked'],drop_first=True)"
   ]
  },
  {
   "cell_type": "code",
   "execution_count": null,
   "metadata": {
    "ExecuteTime": {
     "end_time": "2019-05-27T08:32:06.205153Z",
     "start_time": "2019-05-27T08:32:06.193185Z"
    }
   },
   "outputs": [],
   "source": [
    "train.head()"
   ]
  },
  {
   "cell_type": "code",
   "execution_count": null,
   "metadata": {
    "ExecuteTime": {
     "end_time": "2019-05-27T08:32:06.210140Z",
     "start_time": "2019-05-27T08:32:06.206149Z"
    }
   },
   "outputs": [],
   "source": [
    "import seaborn as sns"
   ]
  },
  {
   "cell_type": "code",
   "execution_count": null,
   "metadata": {
    "ExecuteTime": {
     "end_time": "2019-05-27T08:32:06.216124Z",
     "start_time": "2019-05-27T08:32:06.211147Z"
    }
   },
   "outputs": [],
   "source": [
    "print(len(train),\"\\n\",len(test))"
   ]
  },
  {
   "cell_type": "code",
   "execution_count": null,
   "metadata": {
    "ExecuteTime": {
     "end_time": "2019-05-27T08:32:06.223105Z",
     "start_time": "2019-05-27T08:32:06.217121Z"
    }
   },
   "outputs": [],
   "source": [
    "train = train.fillna(0)\n",
    "test = test.fillna(0)"
   ]
  },
  {
   "cell_type": "code",
   "execution_count": null,
   "metadata": {
    "ExecuteTime": {
     "end_time": "2019-05-27T08:32:06.354753Z",
     "start_time": "2019-05-27T08:32:06.224103Z"
    }
   },
   "outputs": [],
   "source": [
    "sns.heatmap(test.isna(),yticklabels=False,cbar=False,cmap='viridis')"
   ]
  },
  {
   "cell_type": "code",
   "execution_count": null,
   "metadata": {
    "ExecuteTime": {
     "end_time": "2019-05-27T08:32:06.361735Z",
     "start_time": "2019-05-27T08:32:06.355751Z"
    }
   },
   "outputs": [],
   "source": [
    "train = pd.concat([train,train_sex,train_embark],axis=1)\n",
    "test = pd.concat([test,test_sex,test_embark],axis=1)"
   ]
  },
  {
   "cell_type": "code",
   "execution_count": null,
   "metadata": {
    "ExecuteTime": {
     "end_time": "2019-05-27T08:32:06.371714Z",
     "start_time": "2019-05-27T08:32:06.367719Z"
    }
   },
   "outputs": [],
   "source": [
    "train['Fare'] = train['Fare'].round(2)\n",
    "test['Fare'] = test['Fare'].round(2)"
   ]
  },
  {
   "cell_type": "code",
   "execution_count": null,
   "metadata": {
    "ExecuteTime": {
     "end_time": "2019-05-27T08:32:06.390657Z",
     "start_time": "2019-05-27T08:32:06.376695Z"
    }
   },
   "outputs": [],
   "source": [
    "train.head()"
   ]
  },
  {
   "cell_type": "code",
   "execution_count": null,
   "metadata": {
    "ExecuteTime": {
     "end_time": "2019-05-27T08:32:06.403622Z",
     "start_time": "2019-05-27T08:32:06.391655Z"
    }
   },
   "outputs": [],
   "source": [
    "test.head()"
   ]
  },
  {
   "cell_type": "code",
   "execution_count": null,
   "metadata": {
    "ExecuteTime": {
     "end_time": "2019-05-27T08:32:06.409607Z",
     "start_time": "2019-05-27T08:32:06.404621Z"
    }
   },
   "outputs": [],
   "source": [
    "print(len(train),\"\\n\",len(test))"
   ]
  },
  {
   "cell_type": "code",
   "execution_count": null,
   "metadata": {
    "ExecuteTime": {
     "end_time": "2019-05-27T08:32:06.417586Z",
     "start_time": "2019-05-27T08:32:06.410604Z"
    }
   },
   "outputs": [],
   "source": [
    "train.drop(['Sex','Embarked','Name','Ticket'],axis=1,inplace=True)\n",
    "test.drop(['Sex','Embarked','Name','Ticket'],axis=1,inplace=True)"
   ]
  },
  {
   "cell_type": "code",
   "execution_count": null,
   "metadata": {
    "ExecuteTime": {
     "end_time": "2019-05-27T08:32:06.427559Z",
     "start_time": "2019-05-27T08:32:06.418583Z"
    },
    "scrolled": true
   },
   "outputs": [],
   "source": [
    "train.head()"
   ]
  },
  {
   "cell_type": "code",
   "execution_count": null,
   "metadata": {
    "ExecuteTime": {
     "end_time": "2019-05-27T08:32:06.437533Z",
     "start_time": "2019-05-27T08:32:06.428556Z"
    },
    "scrolled": true
   },
   "outputs": [],
   "source": [
    "test.head()"
   ]
  },
  {
   "cell_type": "code",
   "execution_count": null,
   "metadata": {},
   "outputs": [],
   "source": []
  },
  {
   "cell_type": "code",
   "execution_count": null,
   "metadata": {
    "ExecuteTime": {
     "end_time": "2019-05-27T08:32:12.689011Z",
     "start_time": "2019-05-27T08:32:12.685021Z"
    }
   },
   "outputs": [],
   "source": [
    "from sklearn.model_selection import train_test_split"
   ]
  },
  {
   "cell_type": "code",
   "execution_count": null,
   "metadata": {
    "ExecuteTime": {
     "end_time": "2019-05-27T08:35:55.742218Z",
     "start_time": "2019-05-27T08:35:55.735275Z"
    },
    "scrolled": false
   },
   "outputs": [],
   "source": [
    "X = train.drop(\"Survived\",axis=1)\n",
    "# for i in range(len(X)):\n",
    "#     X['PassengerId'] = int(X['PassengerId'][i])\n",
    "#     X[\"Pclass\"] = int(X[\"Pclass\"][i])\n",
    "#     X['Age'] = int(X['Age'][i])\n",
    "#     X['SibSp'] = int(X['SibSp'][i])\n",
    "#     X['Parch'] = int(X['Parch'][i])\n",
    "#     X['Fare'] = int(X['Parch'][i])\n",
    "# print(X.head())\n",
    "\n",
    "y = train['Survived']\n",
    "# y.dropna()\n",
    "# for i in range(len(y)):\n",
    "#     y[i] = int(y[i])\n",
    "# print(y.head())\n",
    "X_train,X_test,y_train,y_test= train_test_split(X, y,test_size=0.00, random_state=66)"
   ]
  },
  {
   "cell_type": "code",
   "execution_count": null,
   "metadata": {
    "ExecuteTime": {
     "end_time": "2019-05-27T08:35:56.543138Z",
     "start_time": "2019-05-27T08:35:56.539148Z"
    }
   },
   "outputs": [],
   "source": [
    "# for i in range(len(X)):\n",
    "#     X['PassengerId'] = int(X['PassengerId'][i])\n",
    "#     X[\"Pclass\"] = int(X[\"Pclass\"][i])\n",
    "#     X['Age'] = int(X['Age'][i])\n",
    "#     X['SibSp'] = int(X['SibSp'][i])\n",
    "#     X['Parch'] = int(X['Parch'][i])\n",
    "#     X['Fare'] = int(X['Parch'][i])"
   ]
  },
  {
   "cell_type": "code",
   "execution_count": null,
   "metadata": {
    "ExecuteTime": {
     "end_time": "2019-05-27T08:35:57.053004Z",
     "start_time": "2019-05-27T08:35:57.049014Z"
    },
    "scrolled": false
   },
   "outputs": [],
   "source": [
    "print(len(train),\"\\n\",len(test))"
   ]
  },
  {
   "cell_type": "code",
   "execution_count": null,
   "metadata": {
    "ExecuteTime": {
     "end_time": "2019-05-27T08:35:57.682484Z",
     "start_time": "2019-05-27T08:35:57.673505Z"
    },
    "scrolled": true
   },
   "outputs": [],
   "source": [
    "X.head()"
   ]
  },
  {
   "cell_type": "code",
   "execution_count": null,
   "metadata": {
    "ExecuteTime": {
     "end_time": "2019-05-27T08:35:58.777320Z",
     "start_time": "2019-05-27T08:35:58.774351Z"
    }
   },
   "outputs": [],
   "source": [
    "# from sklearn.linear_model import LogisticRegression\n",
    "from sklearn.neighbors import KNeighborsClassifier\n",
    "# from sklearn.ensemble import RandomForestClassifier"
   ]
  },
  {
   "cell_type": "code",
   "execution_count": null,
   "metadata": {
    "ExecuteTime": {
     "end_time": "2019-05-27T08:35:59.312069Z",
     "start_time": "2019-05-27T08:35:59.308080Z"
    }
   },
   "outputs": [],
   "source": [
    "# logmodel = LogisticRegression()\n",
    "#kn = KNeighborsClassifier(n_neighbors=10)\n",
    "kn = KNeighborsClassifier(n_neighbors=20)\n",
    "# rfc = RandomForestClassifier(n_estimators=200,max_depth=9)"
   ]
  },
  {
   "cell_type": "code",
   "execution_count": null,
   "metadata": {
    "ExecuteTime": {
     "end_time": "2019-05-27T08:35:59.644083Z",
     "start_time": "2019-05-27T08:35:59.641050Z"
    }
   },
   "outputs": [],
   "source": [
    "#train"
   ]
  },
  {
   "cell_type": "code",
   "execution_count": null,
   "metadata": {
    "ExecuteTime": {
     "end_time": "2019-05-27T08:36:00.156318Z",
     "start_time": "2019-05-27T08:35:59.979807Z"
    }
   },
   "outputs": [],
   "source": [
    "kn.fit(X_train,y_train)\n",
    "# rfc.fit(X_train,y_train)"
   ]
  },
  {
   "cell_type": "code",
   "execution_count": null,
   "metadata": {
    "ExecuteTime": {
     "end_time": "2019-05-27T08:36:00.631124Z",
     "start_time": "2019-05-27T08:36:00.624143Z"
    }
   },
   "outputs": [],
   "source": [
    "test2 = pd.read_csv(\"./input/titanic_test.csv\")"
   ]
  },
  {
   "cell_type": "code",
   "execution_count": null,
   "metadata": {
    "ExecuteTime": {
     "end_time": "2019-05-27T08:36:01.200266Z",
     "start_time": "2019-05-27T08:36:01.195278Z"
    }
   },
   "outputs": [],
   "source": [
    "len(test2)"
   ]
  },
  {
   "cell_type": "code",
   "execution_count": null,
   "metadata": {
    "ExecuteTime": {
     "end_time": "2019-05-27T08:36:01.733295Z",
     "start_time": "2019-05-27T08:36:01.711297Z"
    }
   },
   "outputs": [],
   "source": [
    "predictions = kn.predict(test)"
   ]
  },
  {
   "cell_type": "code",
   "execution_count": null,
   "metadata": {
    "ExecuteTime": {
     "end_time": "2019-05-27T08:36:02.248897Z",
     "start_time": "2019-05-27T08:36:02.244907Z"
    }
   },
   "outputs": [],
   "source": [
    "submission = pd.DataFrame({'PassengerId':test2['PassengerId'],'Survived':predictions})"
   ]
  },
  {
   "cell_type": "code",
   "execution_count": null,
   "metadata": {
    "ExecuteTime": {
     "end_time": "2019-05-27T08:36:03.007839Z",
     "start_time": "2019-05-27T08:36:02.713100Z"
    }
   },
   "outputs": [],
   "source": [
    "submission.to_csv(\"submission.csv\",index=False)"
   ]
  }
 ],
 "metadata": {
  "kernelspec": {
   "display_name": "Python 3",
   "language": "python",
   "name": "python3"
  },
  "language_info": {
   "codemirror_mode": {
    "name": "ipython",
    "version": 3
   },
   "file_extension": ".py",
   "mimetype": "text/x-python",
   "name": "python",
   "nbconvert_exporter": "python",
   "pygments_lexer": "ipython3",
   "version": "3.6.8"
  },
  "toc": {
   "base_numbering": 1,
   "nav_menu": {},
   "number_sections": true,
   "sideBar": true,
   "skip_h1_title": false,
   "title_cell": "Table of Contents",
   "title_sidebar": "Contents",
   "toc_cell": false,
   "toc_position": {},
   "toc_section_display": true,
   "toc_window_display": false
  },
  "varInspector": {
   "cols": {
    "lenName": 16,
    "lenType": 16,
    "lenVar": 40
   },
   "kernels_config": {
    "python": {
     "delete_cmd_postfix": "",
     "delete_cmd_prefix": "del ",
     "library": "var_list.py",
     "varRefreshCmd": "print(var_dic_list())"
    },
    "r": {
     "delete_cmd_postfix": ") ",
     "delete_cmd_prefix": "rm(",
     "library": "var_list.r",
     "varRefreshCmd": "cat(var_dic_list()) "
    }
   },
   "types_to_exclude": [
    "module",
    "function",
    "builtin_function_or_method",
    "instance",
    "_Feature"
   ],
   "window_display": false
  }
 },
 "nbformat": 4,
 "nbformat_minor": 2
}
