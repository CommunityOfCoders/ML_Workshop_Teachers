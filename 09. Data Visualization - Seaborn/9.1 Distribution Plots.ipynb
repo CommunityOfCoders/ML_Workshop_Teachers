{
 "cells": [
  {
   "cell_type": "markdown",
   "metadata": {},
   "source": [
    "___\n",
    "\n",
    "<a href='https://github.com/ai-vithink'> <img src='https://avatars1.githubusercontent.com/u/41588940?s=200&v=4' /></a>\n",
    "___"
   ]
  },
  {
   "cell_type": "markdown",
   "metadata": {},
   "source": [
    "# Distribution Plots\n",
    "\n",
    "Let's discuss some plots that allow us to visualize the distribution of a data set. These plots are:\n",
    "\n",
    "* distplot\n",
    "* jointplot\n",
    "* pairplot\n",
    "* rugplot\n",
    "* kdeplot"
   ]
  },
  {
   "cell_type": "code",
   "execution_count": null,
   "metadata": {
    "ExecuteTime": {
     "end_time": "2019-03-23T09:44:33.182374Z",
     "start_time": "2019-03-23T09:44:31.399111Z"
    }
   },
   "outputs": [],
   "source": [
    "import seaborn as sns\n",
    "import scipy.stats as stats"
   ]
  },
  {
   "cell_type": "code",
   "execution_count": null,
   "metadata": {
    "ExecuteTime": {
     "end_time": "2019-03-23T09:44:33.200295Z",
     "start_time": "2019-03-23T09:44:33.194310Z"
    }
   },
   "outputs": [],
   "source": [
    "from IPython.display import HTML\n",
    "HTML('''<script>\n",
    "code_show_err=false; \n",
    "function code_toggle_err() {\n",
    " if (code_show_err){\n",
    " $('div.output_stderr').hide();\n",
    " } else {\n",
    " $('div.output_stderr').show();\n",
    " }\n",
    " code_show_err = !code_show_err\n",
    "} \n",
    "$( document ).ready(code_toggle_err);\n",
    "</script>\n",
    "To toggle on/off output_stderr, click <a href=\"javascript:code_toggle_err()\">here</a>.''')\n",
    "# To hide warnings, which won't change the desired outcome."
   ]
  },
  {
   "cell_type": "code",
   "execution_count": null,
   "metadata": {
    "ExecuteTime": {
     "end_time": "2019-03-23T09:44:34.783639Z",
     "start_time": "2019-03-23T09:44:34.780646Z"
    }
   },
   "outputs": [],
   "source": [
    "import warnings\n",
    "warnings.filterwarnings(\"ignore\")"
   ]
  },
  {
   "cell_type": "code",
   "execution_count": null,
   "metadata": {
    "ExecuteTime": {
     "end_time": "2019-03-23T09:44:35.742369Z",
     "start_time": "2019-03-23T09:44:35.736386Z"
    }
   },
   "outputs": [],
   "source": [
    "%matplotlib inline\n",
    "sns.set_style('darkgrid')"
   ]
  },
  {
   "cell_type": "markdown",
   "metadata": {},
   "source": [
    "* Inline to show plots in jupyter notebook.\n",
    "* Darkgrid to show background grid in seaborn. Don't include if you prefer plots with white plain background."
   ]
  },
  {
   "cell_type": "markdown",
   "metadata": {},
   "source": [
    "## Data\n",
    "Seaborn comes with built-in data sets!"
   ]
  },
  {
   "cell_type": "code",
   "execution_count": null,
   "metadata": {
    "ExecuteTime": {
     "end_time": "2019-03-23T09:44:37.364394Z",
     "start_time": "2019-03-23T09:44:37.308490Z"
    }
   },
   "outputs": [],
   "source": [
    "# Grabbing tips dataset and saving it with same name.\n",
    "tips = sns.load_dataset('tips')"
   ]
  },
  {
   "cell_type": "code",
   "execution_count": null,
   "metadata": {
    "ExecuteTime": {
     "end_time": "2019-03-23T09:44:37.880977Z",
     "start_time": "2019-03-23T09:44:37.876007Z"
    }
   },
   "outputs": [],
   "source": [
    "%%HTML\n",
    "<style type=\"text/css\">\n",
    "table.dataframe td, table.dataframe th {\n",
    "    border: 3px  black solid !important;\n",
    "  color: black !important;\n",
    "}\n",
    "# For having gridlines "
   ]
  },
  {
   "cell_type": "code",
   "execution_count": null,
   "metadata": {
    "ExecuteTime": {
     "end_time": "2019-03-23T09:44:38.361729Z",
     "start_time": "2019-03-23T09:44:38.343783Z"
    }
   },
   "outputs": [],
   "source": [
    "tips.head() #Data showing people who had a meal, relatead info and how much tip they left."
   ]
  },
  {
   "cell_type": "markdown",
   "metadata": {},
   "source": [
    "## distplot\n",
    "\n",
    "The distplot shows the distribution of a univariate set of observations."
   ]
  },
  {
   "cell_type": "code",
   "execution_count": null,
   "metadata": {
    "ExecuteTime": {
     "end_time": "2019-03-23T09:44:39.915275Z",
     "start_time": "2019-03-23T09:44:39.773687Z"
    }
   },
   "outputs": [],
   "source": [
    "# Univariate is scientific way of saying one variable.\n",
    "# Seeing how total bill is distributed\n",
    "sns.distplot(tips['total_bill'], color='teal')"
   ]
  },
  {
   "cell_type": "markdown",
   "metadata": {},
   "source": [
    "* Passing single column of dataframe.\n",
    "* In case you get a warning then do not worry about it, it is a potential conflict with another package stats models, but that won't affect your sns.distplot().\n",
    "* What we get is a histrogram or KDE Kernel Density Estimation. \n",
    "* More on KDE later. KDE can be removed to retain just the histrogram part as well, as shown below."
   ]
  },
  {
   "cell_type": "code",
   "execution_count": null,
   "metadata": {
    "ExecuteTime": {
     "end_time": "2019-03-23T09:44:41.218215Z",
     "start_time": "2019-03-23T09:44:41.093569Z"
    }
   },
   "outputs": [],
   "source": [
    "sns.distplot(tips['total_bill'], color='purple', kde=False)\n",
    "# Just a distribution with frequency giving us an idea of where the total bill lies.\n",
    "# By frequency of bars one can easily tell"
   ]
  },
  {
   "cell_type": "code",
   "execution_count": null,
   "metadata": {
    "ExecuteTime": {
     "end_time": "2019-03-23T09:44:41.793675Z",
     "start_time": "2019-03-23T09:44:41.635102Z"
    }
   },
   "outputs": [],
   "source": [
    "# To get more info we can change number of bins\n",
    "sns.distplot(tips['total_bill'], color='blue', kde=False, bins=30)"
   ]
  },
  {
   "cell_type": "code",
   "execution_count": null,
   "metadata": {
    "ExecuteTime": {
     "end_time": "2019-03-23T09:44:42.511720Z",
     "start_time": "2019-03-23T09:44:42.262425Z"
    }
   },
   "outputs": [],
   "source": [
    "# If you increase the number of bins way too much then you go towards a scenario where you discretely plot every single value.\n",
    "sns.distplot(tips['total_bill'], color='darkgreen', kde=False, bins=100)"
   ]
  },
  {
   "cell_type": "code",
   "execution_count": null,
   "metadata": {
    "ExecuteTime": {
     "end_time": "2019-03-23T09:44:43.399722Z",
     "start_time": "2019-03-23T09:44:43.395766Z"
    }
   },
   "outputs": [],
   "source": [
    "# That was distplot() allows you to analyse a distribution, specifically a histrogram."
   ]
  },
  {
   "cell_type": "markdown",
   "metadata": {},
   "source": [
    "## jointplot\n",
    "\n",
    "jointplot() allows you to basically match up two distplots for bivariate data. With your choice of what **kind** parameter to compare with: \n",
    "* “scatter” \n",
    "* “reg” \n",
    "* “resid” \n",
    "* “kde” \n",
    "* “hex”"
   ]
  },
  {
   "cell_type": "code",
   "execution_count": null,
   "metadata": {
    "ExecuteTime": {
     "end_time": "2019-03-23T09:44:44.886403Z",
     "start_time": "2019-03-23T09:44:44.576234Z"
    }
   },
   "outputs": [],
   "source": [
    "# We can combine 2 different distribution plots. Bivariate = 2 variables.\n",
    "# sns.jointplot(x variable = ,y variable = , dataset)\n",
    "a = sns.jointplot(x='total_bill', y='tip', data=tips)\n",
    "a.annotate(stats.pearsonr)  # To get pearson value, p coefficient\n",
    "# More on p coefficient when discussing linear regression."
   ]
  },
  {
   "cell_type": "markdown",
   "metadata": {},
   "source": [
    "* We get 2 distribution plots with y axis having tip and total_bill on x axis.\n",
    "* Notice as we move on x-axis 2 things happen :\n",
    "    1. Number of dots decrease, showing how there are less bills in 40-50 dollar category when compared with 10-30 dollars.\n",
    "    2. Tip amount increases, shown on y axis as we move towards the higher amount of bill on x axis, which makes sense as tips are proportional to bill amount."
   ]
  },
  {
   "cell_type": "code",
   "execution_count": null,
   "metadata": {
    "ExecuteTime": {
     "end_time": "2019-03-23T09:44:46.495616Z",
     "start_time": "2019-03-23T09:44:46.149575Z"
    }
   },
   "outputs": [],
   "source": [
    "# Joint plots have additional argument parameter called kind.\n",
    "# Kind allows us to modify what is going on inside the jointplot().\n",
    "a = sns.jointplot(x='total_bill', y='tip', data=tips, kind='hex')\n",
    "a.annotate(stats.pearsonr)"
   ]
  },
  {
   "cell_type": "markdown",
   "metadata": {},
   "source": [
    "* Above makes hexagonal distribution representation Hex is dark for a large number of points in a region and lighter for less number of points.\n",
    "* Hex looks more clean while at the same time distinuguishably telling us which is the area with most number of plots, and which is the one with no or least number of plots."
   ]
  },
  {
   "cell_type": "code",
   "execution_count": null,
   "metadata": {
    "ExecuteTime": {
     "end_time": "2019-03-23T09:44:48.243939Z",
     "start_time": "2019-03-23T09:44:47.830045Z"
    }
   },
   "outputs": [],
   "source": [
    "# Another argument with kind is reg = regression. We'll learn more about it later.\n",
    "a = sns.jointplot(x='total_bill', y='tip', data=tips, kind='reg')\n",
    "a.annotate(stats.pearsonr)\n",
    "# Seaborn draws a regression line. Linear Regression is a machine learning (ML) topic.\n",
    "# We'll return to this topic when discussing ML and how this line is made."
   ]
  },
  {
   "cell_type": "code",
   "execution_count": null,
   "metadata": {
    "ExecuteTime": {
     "end_time": "2019-03-23T09:44:49.143540Z",
     "start_time": "2019-03-23T09:44:48.384565Z"
    }
   },
   "outputs": [],
   "source": [
    "# Another kind is kde which shows up where the points match up the most.\n",
    "a = sns.jointplot(x='total_bill', y='tip', data=tips, kind='kde')\n",
    "a.annotate(stats.pearsonr)"
   ]
  },
  {
   "cell_type": "code",
   "execution_count": null,
   "metadata": {
    "ExecuteTime": {
     "end_time": "2019-03-23T09:44:49.522487Z",
     "start_time": "2019-03-23T09:44:49.180403Z"
    }
   },
   "outputs": [],
   "source": [
    "# We'll use joint plot with default scatter most often as it is easiest to interpret and read.\n",
    "a = sns.jointplot(x='total_bill', y='tip', data=tips)\n",
    "a.annotate(stats.pearsonr)"
   ]
  },
  {
   "cell_type": "markdown",
   "metadata": {},
   "source": [
    "## pairplot\n",
    "\n",
    "pairplot will plot pairwise relationships across an entire dataframe (for the numerical columns) and supports a color hue argument (for categorical columns). "
   ]
  },
  {
   "cell_type": "code",
   "execution_count": null,
   "metadata": {
    "ExecuteTime": {
     "end_time": "2019-03-23T09:44:51.183401Z",
     "start_time": "2019-03-23T09:44:50.323747Z"
    }
   },
   "outputs": [],
   "source": [
    "sns.pairplot(tips)\n",
    "# Essentially this makes bivariate (joint plot) for every numerical column in dataframe\n",
    "# Larger the dataframe, the more time pairplot takes."
   ]
  },
  {
   "cell_type": "markdown",
   "metadata": {},
   "source": [
    "* In pairplot whenever in the grid there is a parameter vs same parameter then instead of getting a scatterplot, we see a histrogram.\n",
    "* Pairplot is a efficient way to quickly visualise your data. Also hue can be added.\n",
    "* In hue we pass in the column name of a categorical column. Categorical means columns having actual categories, like gender and AC Seat Class A,B,C etc. and not numerical columns."
   ]
  },
  {
   "cell_type": "code",
   "execution_count": null,
   "metadata": {
    "ExecuteTime": {
     "end_time": "2019-03-23T09:44:52.821763Z",
     "start_time": "2019-03-23T09:44:51.620013Z"
    }
   },
   "outputs": [],
   "source": [
    "sns.pairplot(tips, hue='sex', palette='prism')\n",
    "# Colors the pair plot based on the categorical column supplied to hue parameter.\n",
    "# Palette allows us to colour the plots using specific predefined formats. We'll learn more about\n",
    "# the colors, styles at the end of the seaborn lecture series. This is just an example."
   ]
  },
  {
   "cell_type": "markdown",
   "metadata": {},
   "source": [
    "## rugplot\n",
    "\n",
    "rugplots are actually a very simple concept, they just draw a dash mark for every point on a univariate distribution. They are the building block of a KDE plot:"
   ]
  },
  {
   "cell_type": "code",
   "execution_count": null,
   "metadata": {
    "ExecuteTime": {
     "end_time": "2019-03-23T09:44:53.470194Z",
     "start_time": "2019-03-23T09:44:53.358472Z"
    }
   },
   "outputs": [],
   "source": [
    "# just like distplot we pass in a single column here.\n",
    "sns.rugplot(tips['total_bill'])"
   ]
  },
  {
   "cell_type": "code",
   "execution_count": null,
   "metadata": {
    "ExecuteTime": {
     "end_time": "2019-03-23T09:44:54.072558Z",
     "start_time": "2019-03-23T09:44:53.941908Z"
    }
   },
   "outputs": [],
   "source": [
    "sns.distplot(tips['total_bill'], kde=False)"
   ]
  },
  {
   "cell_type": "markdown",
   "metadata": {},
   "source": [
    "* Difference between distplot and rugplot is that distplot has histrogram and keeps a record of number of dashes and shows them vertically as frequency on y axis, while rugplot does not do that."
   ]
  },
  {
   "cell_type": "markdown",
   "metadata": {},
   "source": [
    "##### How to make KDE line based off of rugplot ?\n",
    "\n",
    "* References :\n",
    "    * https://en.wikipedia.org/w/index.php?title=Kernel_density_estimation\n",
    "    * https://en.wikipedia.org/wiki/Normal_distribution"
   ]
  },
  {
   "attachments": {
    "image.png": {
     "image/png": "[encoded data removed]"
    }
   },
   "cell_type": "markdown",
   "metadata": {},
   "source": [
    "* KDE has relation to rugged plot count. \n",
    "* KDE plots stands for kernel density estimation plots.\n",
    "* We will try to generate the following figure : \n",
    "![image.png](attachment:image.png)"
   ]
  },
  {
   "attachments": {
    "image.png": {
     "image/png": "[encoded data removed]"
    }
   },
   "cell_type": "markdown",
   "metadata": {},
   "source": [
    "* Black dashes represent the rug point, and there are normal gaussian distributions on top of each point, when we sum them all up we get the final kde.\n",
    "\n",
    "* What we mean by normal distribution or gaussian distribution, in probability theory it is the most common probability distribution, these are normal distributions which generally represent most of the daily life visualisations like test scores, a normalized plot, age, height of a set of population etc.\n",
    "![image.png](attachment:image.png)"
   ]
  },
  {
   "cell_type": "markdown",
   "metadata": {},
   "source": [
    "## kdeplot\n",
    "\n",
    "kdeplots are [Kernel Density Estimation plots](http://en.wikipedia.org/wiki/Kernel_density_estimation#Practical_estimation_of_the_bandwidth). These KDE plots replace every single observation with a Gaussian (Normal) distribution centered around that value. For example:"
   ]
  },
  {
   "cell_type": "code",
   "execution_count": null,
   "metadata": {
    "ExecuteTime": {
     "end_time": "2019-03-23T09:44:57.248007Z",
     "start_time": "2019-03-23T09:44:57.063497Z"
    }
   },
   "outputs": [],
   "source": [
    "# Don't worry about understanding this code!\n",
    "# It's just for the diagram below\n",
    "import numpy as np\n",
    "import matplotlib.pyplot as plt\n",
    "from scipy import stats\n",
    "\n",
    "# Create dataset\n",
    "dataset = np.random.randn(25)  # dataset of random data\n",
    "\n",
    "# Create another rugplot\n",
    "sns.rugplot(dataset)  # rugplot on random data\n",
    "\n",
    "# Set up the x-axis for the plot\n",
    "x_min = dataset.min() - 2\n",
    "x_max = dataset.max() + 2\n",
    "\n",
    "# 100 equally spaced points from x_min to x_max\n",
    "# use linspace to make 100 equally spaced points from x_min to\n",
    "x_axis = np.linspace(x_min, x_max, 100)\n",
    "# x_max\n",
    "\n",
    "# Set up the bandwidth, for info on this:\n",
    "url = 'http://en.wikipedia.org/wiki/Kernel_density_estimation#Practical_estimation_of_the_bandwidth'\n",
    "\n",
    "bandwidth = ((4*dataset.std()**5)/(3*len(dataset)))**.2\n",
    "\n",
    "\n",
    "# Create an empty kernel list\n",
    "kernel_list = []\n",
    "\n",
    "# Plot each basis function\n",
    "for data_point in dataset:\n",
    "\n",
    "    # Create a kernel for each point and append to list\n",
    "    # Plots a normal distribution for each of the rugged plot points.\n",
    "    kernel = stats.norm(data_point, bandwidth).pdf(x_axis)\n",
    "    kernel_list.append(kernel)\n",
    "    # Grey lines represent normal distribution on top of each of the blue dashes.\n",
    "    # Scale for plotting\n",
    "    kernel = kernel / kernel.max()\n",
    "    kernel = kernel * .4\n",
    "    plt.plot(x_axis, kernel, color='grey', alpha=0.5)\n",
    "\n",
    "plt.ylim(0, 1)\n",
    "# Next we sum all the normal distributions to get the kernel density basis function."
   ]
  },
  {
   "cell_type": "code",
   "execution_count": null,
   "metadata": {
    "ExecuteTime": {
     "end_time": "2019-03-23T09:44:57.985452Z",
     "start_time": "2019-03-23T09:44:57.889674Z"
    }
   },
   "outputs": [],
   "source": [
    "# To get the kde plot we can sum these basis functions.\n",
    "\n",
    "# Plot the sum of the basis function\n",
    "sum_of_kde = np.sum(kernel_list, axis=0)\n",
    "\n",
    "# Plot figure\n",
    "fig = plt.plot(x_axis, sum_of_kde, color='teal')\n",
    "\n",
    "# Add the initial rugplot\n",
    "sns.rugplot(dataset, c='red')\n",
    "\n",
    "# Get rid of y-tick marks\n",
    "plt.yticks([])\n",
    "\n",
    "# Set title\n",
    "plt.suptitle(\"Sum of the Basis Functions\")"
   ]
  },
  {
   "cell_type": "markdown",
   "metadata": {},
   "source": [
    "* We can get KDE plot using rugplot or using distplot.\n",
    "* If we are using distplot, then we can get rid of kde plot by using kde=False, but if we actually\n",
    "* just want the kde and not the bins in background then we can pass kdeplot instead of distplot.\n"
   ]
  },
  {
   "cell_type": "code",
   "execution_count": null,
   "metadata": {
    "ExecuteTime": {
     "end_time": "2019-03-23T09:44:59.301077Z",
     "start_time": "2019-03-23T09:44:59.180360Z"
    }
   },
   "outputs": [],
   "source": [
    "sns.kdeplot(tips['total_bill'])"
   ]
  },
  {
   "cell_type": "code",
   "execution_count": null,
   "metadata": {
    "ExecuteTime": {
     "end_time": "2019-03-23T09:44:59.809709Z",
     "start_time": "2019-03-23T09:44:59.674074Z"
    },
    "scrolled": true
   },
   "outputs": [],
   "source": [
    "sns.kdeplot(tips['tip'])\n",
    "sns.rugplot(tips['tip'])"
   ]
  },
  {
   "cell_type": "markdown",
   "metadata": {},
   "source": [
    "# Bonus : How to add/edit themes in your NB ?\n",
    "* Install jupyter themes using pip install --upgrade jupyterthemes.\n",
    "* To show a list of themes type jt -l in the terminal.\n",
    "* To show help use jt -h to get a list of flags for custom functionality like showing toolbar, kernel logo etc.\n",
    "* Finally to apply a theme use jt -t < themename> -additional_flags \n",
    "* E.g. pip jt -t monokai -T -N -kl\n",
    "* The command above applies theme monokai to jupyter and -T -N -kl flags makes Toolbar, Notebook name and kernel logo visible."
   ]
  }
 ],
 "metadata": {
  "kernelspec": {
   "display_name": "Python 3",
   "language": "python",
   "name": "python3"
  },
  "language_info": {
   "codemirror_mode": {
    "name": "ipython",
    "version": 3
   },
   "file_extension": ".py",
   "mimetype": "text/x-python",
   "name": "python",
   "nbconvert_exporter": "python",
   "pygments_lexer": "ipython3",
   "version": "3.6.8"
  },
  "toc": {
   "base_numbering": 1,
   "nav_menu": {},
   "number_sections": true,
   "sideBar": true,
   "skip_h1_title": false,
   "title_cell": "Table of Contents",
   "title_sidebar": "Contents",
   "toc_cell": false,
   "toc_position": {
    "height": "calc(100% - 180px)",
    "left": "10px",
    "top": "150px",
    "width": "349.091px"
   },
   "toc_section_display": true,
   "toc_window_display": false
  },
  "varInspector": {
   "cols": {
    "lenName": 16,
    "lenType": 16,
    "lenVar": 40
   },
   "kernels_config": {
    "python": {
     "delete_cmd_postfix": "",
     "delete_cmd_prefix": "del ",
     "library": "var_list.py",
     "varRefreshCmd": "print(var_dic_list())"
    },
    "r": {
     "delete_cmd_postfix": ") ",
     "delete_cmd_prefix": "rm(",
     "library": "var_list.r",
     "varRefreshCmd": "cat(var_dic_list()) "
    }
   },
   "types_to_exclude": [
    "module",
    "function",
    "builtin_function_or_method",
    "instance",
    "_Feature"
   ],
   "window_display": false
  }
 },
 "nbformat": 4,
 "nbformat_minor": 2
}
