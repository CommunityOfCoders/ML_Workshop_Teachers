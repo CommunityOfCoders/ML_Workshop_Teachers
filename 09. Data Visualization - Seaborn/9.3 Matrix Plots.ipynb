{
 "cells": [
  {
   "cell_type": "markdown",
   "metadata": {},
   "source": [
    "___\n",
    "\n",
    "<a href='https://github.com/ai-vithink'> <img src='https://avatars1.githubusercontent.com/u/41588940?s=200&v=4' /></a>\n",
    "___"
   ]
  },
  {
   "cell_type": "markdown",
   "metadata": {},
   "source": [
    "# Matrix Plots\n",
    "\n",
    "Matrix plots allow you to plot data as color-encoded matrices and can also be used to indicate clusters within the data (later in the machine learning section we will learn how to formally cluster data).\n",
    "\n",
    "Let's begin by exploring seaborn's heatmap and clutermap:"
   ]
  },
  {
   "cell_type": "code",
   "execution_count": null,
   "metadata": {
    "ExecuteTime": {
     "end_time": "2019-03-24T05:45:52.396940Z",
     "start_time": "2019-03-24T05:45:51.791461Z"
    }
   },
   "outputs": [],
   "source": [
    "import seaborn as sns"
   ]
  },
  {
   "cell_type": "code",
   "execution_count": null,
   "metadata": {
    "ExecuteTime": {
     "end_time": "2019-03-24T05:45:55.053965Z",
     "start_time": "2019-03-24T05:45:55.048016Z"
    }
   },
   "outputs": [],
   "source": [
    "from IPython.display import HTML\n",
    "HTML('''<script>\n",
    "code_show_err=false; \n",
    "function code_toggle_err() {\n",
    " if (code_show_err){\n",
    " $('div.output_stderr').hide();\n",
    " } else {\n",
    " $('div.output_stderr').show();\n",
    " }\n",
    " code_show_err = !code_show_err\n",
    "} \n",
    "$( document ).ready(code_toggle_err);\n",
    "</script>\n",
    "To toggle on/off output_stderr, click <a href=\"javascript:code_toggle_err()\">here</a>.''')\n",
    "# To hide warnings, which won't change the desired outcome."
   ]
  },
  {
   "cell_type": "code",
   "execution_count": null,
   "metadata": {
    "ExecuteTime": {
     "end_time": "2019-03-24T05:45:55.603821Z",
     "start_time": "2019-03-24T05:45:55.598872Z"
    }
   },
   "outputs": [],
   "source": [
    "%%HTML\n",
    "<style type=\"text/css\">\n",
    "table.dataframe td, table.dataframe th {\n",
    "    border: 3px  black solid !important;\n",
    "  color: black !important;\n",
    "}\n",
    "# For having gridlines "
   ]
  },
  {
   "cell_type": "code",
   "execution_count": null,
   "metadata": {
    "ExecuteTime": {
     "end_time": "2019-03-24T05:45:56.177208Z",
     "start_time": "2019-03-24T05:45:56.174250Z"
    }
   },
   "outputs": [],
   "source": [
    "import warnings\n",
    "warnings.filterwarnings(\"ignore\")"
   ]
  },
  {
   "cell_type": "code",
   "execution_count": null,
   "metadata": {
    "ExecuteTime": {
     "end_time": "2019-03-24T05:45:56.908932Z",
     "start_time": "2019-03-24T05:45:56.904927Z"
    }
   },
   "outputs": [],
   "source": [
    "%matplotlib inline\n",
    "sns.set_style('darkgrid')"
   ]
  },
  {
   "cell_type": "code",
   "execution_count": null,
   "metadata": {
    "ExecuteTime": {
     "end_time": "2019-03-24T05:45:57.502898Z",
     "start_time": "2019-03-24T05:45:57.455024Z"
    }
   },
   "outputs": [],
   "source": [
    "tips = sns.load_dataset('tips')\n",
    "flights = sns.load_dataset('flights')\n",
    "tips.head()"
   ]
  },
  {
   "cell_type": "code",
   "execution_count": null,
   "metadata": {
    "ExecuteTime": {
     "end_time": "2019-03-24T05:46:00.936594Z",
     "start_time": "2019-03-24T05:46:00.928615Z"
    }
   },
   "outputs": [],
   "source": [
    "flights.head()"
   ]
  },
  {
   "cell_type": "markdown",
   "metadata": {},
   "source": [
    "## Heatmap\n",
    "\n",
    "In order for a heatmap to work properly, your data should already be in a matrix form, the sns.heatmap function basically just colors it in for you. \n",
    "* What we mean by matrix form is that the index name and column name should match up, so that cell value shows something, which is relevant to both of the names.\n",
    "For example:"
   ]
  },
  {
   "cell_type": "markdown",
   "metadata": {},
   "source": [
    "* Right now we have tips where total_bill is a label or a variable and first value is 16.99 dollars, however row is not an actual variable here, in order to get the tips into matrix form we need to have variables on columns and rows.\n",
    "* We can do so by multiple methods like pivot table or by getting correlation data.\n",
    "* We will do corr first in the following manner :"
   ]
  },
  {
   "cell_type": "code",
   "execution_count": null,
   "metadata": {
    "ExecuteTime": {
     "end_time": "2019-03-24T05:46:04.531047Z",
     "start_time": "2019-03-24T05:46:04.527093Z"
    }
   },
   "outputs": [],
   "source": [
    "tc = tips.corr() # Now as you see the tips is in matrix form with row and column both having variables.\n",
    "# Now column and row variable name actually indicates relevancy to both column and rows where they are."
   ]
  },
  {
   "cell_type": "code",
   "execution_count": null,
   "metadata": {
    "ExecuteTime": {
     "end_time": "2019-03-24T05:46:06.924761Z",
     "start_time": "2019-03-24T05:46:06.808114Z"
    }
   },
   "outputs": [],
   "source": [
    "sns.heatmap(tc, annot=True, cmap='coolwarm')\n",
    "# Heatmap just colours the values based on some gradient scale.\n",
    "# Annotation -> annot to display the numbers on the heatmap, and cmap for colourmap you prefer."
   ]
  },
  {
   "cell_type": "code",
   "execution_count": null,
   "metadata": {
    "ExecuteTime": {
     "end_time": "2019-03-24T05:46:09.672088Z",
     "start_time": "2019-03-24T05:46:09.663147Z"
    }
   },
   "outputs": [],
   "source": [
    "# We have year month and passengers and we need to get it into matrix form.\n",
    "flights.head()"
   ]
  },
  {
   "cell_type": "code",
   "execution_count": null,
   "metadata": {
    "ExecuteTime": {
     "end_time": "2019-03-24T05:46:11.827576Z",
     "start_time": "2019-03-24T05:46:11.807631Z"
    }
   },
   "outputs": [],
   "source": [
    "flights.pivot_table(index='month', columns='year', values='passengers')\n",
    "# index is your row, columns and values are numbers stored at the intersection of x,y row and column."
   ]
  },
  {
   "cell_type": "code",
   "execution_count": null,
   "metadata": {
    "ExecuteTime": {
     "end_time": "2019-03-24T05:46:12.596498Z",
     "start_time": "2019-03-24T05:46:12.424847Z"
    }
   },
   "outputs": [],
   "source": [
    "fp = flights.pivot_table(index='month',columns='year',values='passengers')\n",
    "sns.heatmap(fp,cmap='magma',linecolor='white',linewidths=1)\n",
    "#  cmap schemes : magma, coolwarm, spring"
   ]
  },
  {
   "cell_type": "code",
   "execution_count": null,
   "metadata": {
    "ExecuteTime": {
     "end_time": "2019-03-24T05:46:18.131036Z",
     "start_time": "2019-03-24T05:46:18.128080Z"
    }
   },
   "outputs": [],
   "source": [
    "# !jt -r\n",
    "# !jt -t monokai -T -N -kl"
   ]
  },
  {
   "cell_type": "markdown",
   "metadata": {},
   "source": [
    "## clustermap\n",
    "\n",
    "The clustermap uses hierarchal clustering to produce a clustered version of the heatmap. For example:"
   ]
  },
  {
   "cell_type": "code",
   "execution_count": null,
   "metadata": {
    "ExecuteTime": {
     "end_time": "2019-03-24T05:46:19.743195Z",
     "start_time": "2019-03-24T05:46:19.479896Z"
    }
   },
   "outputs": [],
   "source": [
    "sns.clustermap(fp,cmap='coolwarm')"
   ]
  },
  {
   "cell_type": "markdown",
   "metadata": {},
   "source": [
    "* Tries to cluster together rows and columns based on their similarity.\n",
    "* Notice how months are not in the same order on y-axis as these have been clustered to put similar months together.\n",
    "* Also some years are now out of order. e.g. 1959,1960 are similar to each other. So are August and July.\n",
    "* For clarity try changing cmap.\n",
    "* Another thing we can do is standardize the scale. In clustermap above we are on the scale 0 to 600. If we wanted to normalize this we can pass in an argument standard_scale and input 1 to normalize 0 to 600 scale to 0 to 1."
   ]
  },
  {
   "cell_type": "code",
   "execution_count": null,
   "metadata": {
    "ExecuteTime": {
     "end_time": "2019-03-24T05:46:38.047431Z",
     "start_time": "2019-03-24T05:46:37.784112Z"
    }
   },
   "outputs": [],
   "source": [
    "sns.clustermap(fp,cmap='coolwarm',standard_scale=1)"
   ]
  },
  {
   "cell_type": "markdown",
   "metadata": {},
   "source": [
    "* After normalizing we can see that Winter months Feb,Jan and Nov are closer to less number of passengers and high passenger months are in summer months.\n",
    "* Checkout documentation of clustermap if you are excited and want to know what actually is happening here.\n",
    "* You might want to wait till we reach the machine learning clustering algorithms to understand and appreciate the mathematics behind the methods.\n",
    "* Right now consider it just as a interesting way to interpret more information as you would get from a heatmap."
   ]
  }
 ],
 "metadata": {
  "kernelspec": {
   "display_name": "Python 3",
   "language": "python",
   "name": "python3"
  },
  "language_info": {
   "codemirror_mode": {
    "name": "ipython",
    "version": 3
   },
   "file_extension": ".py",
   "mimetype": "text/x-python",
   "name": "python",
   "nbconvert_exporter": "python",
   "pygments_lexer": "ipython3",
   "version": "3.6.8"
  },
  "toc": {
   "base_numbering": 1,
   "nav_menu": {},
   "number_sections": true,
   "sideBar": true,
   "skip_h1_title": false,
   "title_cell": "Table of Contents",
   "title_sidebar": "Contents",
   "toc_cell": false,
   "toc_position": {},
   "toc_section_display": true,
   "toc_window_display": false
  },
  "varInspector": {
   "cols": {
    "lenName": 16,
    "lenType": 16,
    "lenVar": 40
   },
   "kernels_config": {
    "python": {
     "delete_cmd_postfix": "",
     "delete_cmd_prefix": "del ",
     "library": "var_list.py",
     "varRefreshCmd": "print(var_dic_list())"
    },
    "r": {
     "delete_cmd_postfix": ") ",
     "delete_cmd_prefix": "rm(",
     "library": "var_list.r",
     "varRefreshCmd": "cat(var_dic_list()) "
    }
   },
   "types_to_exclude": [
    "module",
    "function",
    "builtin_function_or_method",
    "instance",
    "_Feature"
   ],
   "window_display": false
  }
 },
 "nbformat": 4,
 "nbformat_minor": 2
}
