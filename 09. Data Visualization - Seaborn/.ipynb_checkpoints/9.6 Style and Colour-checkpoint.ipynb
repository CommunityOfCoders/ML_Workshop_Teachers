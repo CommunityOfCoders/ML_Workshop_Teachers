{
 "cells": [
  {
   "cell_type": "markdown",
   "metadata": {},
   "source": [
    "___\n",
    "\n",
    "<a href='https://github.com/ai-vithink'> <img src='https://avatars1.githubusercontent.com/u/41588940?s=200&v=4' /></a>\n",
    "___"
   ]
  },
  {
   "cell_type": "markdown",
   "metadata": {},
   "source": [
    "# Style and Color\n",
    "\n",
    "We've shown a few times how to control figure aesthetics in seaborn, but let's now go over it formally:"
   ]
  },
  {
   "cell_type": "code",
   "execution_count": null,
   "metadata": {
    "ExecuteTime": {
     "end_time": "2019-03-24T19:34:02.122157Z",
     "start_time": "2019-03-24T19:34:00.810667Z"
    }
   },
   "outputs": [],
   "source": [
    "import seaborn as sns\n",
    "import matplotlib.pyplot as plt\n",
    "%matplotlib inline"
   ]
  },
  {
   "cell_type": "code",
   "execution_count": null,
   "metadata": {
    "ExecuteTime": {
     "end_time": "2019-03-24T19:34:02.138081Z",
     "start_time": "2019-03-24T19:34:02.132097Z"
    }
   },
   "outputs": [],
   "source": [
    "from IPython.display import HTML\n",
    "HTML('''<script>\n",
    "code_show_err=false; \n",
    "function code_toggle_err() {\n",
    " if (code_show_err){\n",
    " $('div.output_stderr').hide();\n",
    " } else {\n",
    " $('div.output_stderr').show();\n",
    " }\n",
    " code_show_err = !code_show_err\n",
    "} \n",
    "$( document ).ready(code_toggle_err);\n",
    "</script>\n",
    "To toggle on/off output_stderr, click <a href=\"javascript:code_toggle_err()\">here</a>.''')\n",
    "# To hide warnings, which won't change the desired outcome."
   ]
  },
  {
   "cell_type": "code",
   "execution_count": null,
   "metadata": {
    "ExecuteTime": {
     "end_time": "2019-03-24T19:34:03.423353Z",
     "start_time": "2019-03-24T19:34:03.418406Z"
    }
   },
   "outputs": [],
   "source": [
    "%%HTML\n",
    "<style type=\"text/css\">\n",
    "table.dataframe td, table.dataframe th {\n",
    "    border: 3px  black solid !important;\n",
    "  color: black !important;\n",
    "}\n",
    "# For having gridlines "
   ]
  },
  {
   "cell_type": "code",
   "execution_count": null,
   "metadata": {
    "ExecuteTime": {
     "end_time": "2019-03-24T19:34:04.093561Z",
     "start_time": "2019-03-24T19:34:04.089630Z"
    }
   },
   "outputs": [],
   "source": [
    "import warnings\n",
    "warnings.filterwarnings(\"ignore\")\n",
    "sns.set_style('darkgrid')"
   ]
  },
  {
   "cell_type": "code",
   "execution_count": null,
   "metadata": {
    "ExecuteTime": {
     "end_time": "2019-03-24T19:34:04.673149Z",
     "start_time": "2019-03-24T19:34:04.631229Z"
    }
   },
   "outputs": [],
   "source": [
    "tips = sns.load_dataset('tips')\n",
    "tips.head()"
   ]
  },
  {
   "cell_type": "markdown",
   "metadata": {},
   "source": [
    "## Styles\n",
    "\n",
    "You can set particular styles:"
   ]
  },
  {
   "cell_type": "code",
   "execution_count": null,
   "metadata": {
    "ExecuteTime": {
     "end_time": "2019-03-24T19:34:06.031493Z",
     "start_time": "2019-03-24T19:34:05.936714Z"
    }
   },
   "outputs": [],
   "source": [
    "sns.countplot(x='sex',data = tips)"
   ]
  },
  {
   "cell_type": "code",
   "execution_count": null,
   "metadata": {
    "ExecuteTime": {
     "end_time": "2019-03-24T19:34:07.447962Z",
     "start_time": "2019-03-24T19:34:07.364187Z"
    }
   },
   "outputs": [],
   "source": [
    "# set_style argument in seaborn allows us to set the style for rest of the plots which is applied in the following manner :\n",
    "sns.set_style('white')  # Creates plain white background\n",
    "sns.countplot(x='sex',data = tips)"
   ]
  },
  {
   "cell_type": "code",
   "execution_count": null,
   "metadata": {
    "ExecuteTime": {
     "end_time": "2019-03-24T19:34:08.027449Z",
     "start_time": "2019-03-24T19:34:07.936688Z"
    }
   },
   "outputs": [],
   "source": [
    "sns.set_style('ticks')  # Ticks at the edge of the box are made visible\n",
    "sns.countplot(x='sex',data = tips)"
   ]
  },
  {
   "cell_type": "code",
   "execution_count": null,
   "metadata": {
    "ExecuteTime": {
     "end_time": "2019-03-24T19:34:08.413014Z",
     "start_time": "2019-03-24T19:34:08.328259Z"
    },
    "scrolled": false
   },
   "outputs": [],
   "source": [
    "sns.set_style('darkgrid')  # Gives original darkgrid background\n",
    "sns.countplot(x='sex',data = tips)"
   ]
  },
  {
   "cell_type": "code",
   "execution_count": null,
   "metadata": {
    "ExecuteTime": {
     "end_time": "2019-03-24T19:34:08.706244Z",
     "start_time": "2019-03-24T19:34:08.616483Z"
    }
   },
   "outputs": [],
   "source": [
    "sns.set_style('whitegrid')  # Gives clean whitegrid background\n",
    "sns.countplot(x='sex',data = tips)"
   ]
  },
  {
   "cell_type": "code",
   "execution_count": null,
   "metadata": {
    "ExecuteTime": {
     "end_time": "2019-03-24T19:34:09.205911Z",
     "start_time": "2019-03-24T19:34:09.118146Z"
    }
   },
   "outputs": [],
   "source": [
    "sns.set_style('ticks')\n",
    "sns.countplot(x='sex',data=tips,palette='autumn')\n",
    "# palette is kind of color scheme coolwarm, spring,autumn,winter, magma,deep are some of it."
   ]
  },
  {
   "cell_type": "markdown",
   "metadata": {},
   "source": [
    "## Spine Removal"
   ]
  },
  {
   "cell_type": "code",
   "execution_count": null,
   "metadata": {
    "ExecuteTime": {
     "end_time": "2019-03-24T19:34:09.323560Z",
     "start_time": "2019-03-24T19:34:09.236826Z"
    }
   },
   "outputs": [],
   "source": [
    "sns.set_style('ticks')\n",
    "sns.countplot(x='sex',data = tips)"
   ]
  },
  {
   "cell_type": "code",
   "execution_count": null,
   "metadata": {
    "ExecuteTime": {
     "end_time": "2019-03-24T19:34:09.413318Z",
     "start_time": "2019-03-24T19:34:09.324600Z"
    }
   },
   "outputs": [],
   "source": [
    "sns.set_style('ticks')\n",
    "sns.countplot(x='sex', data=tips)\n",
    "# To remove spine\n",
    "# If no argument passed then by default top and right spine/axes are removed, left and bottom are not removed.\n",
    "sns.despine()"
   ]
  },
  {
   "cell_type": "code",
   "execution_count": null,
   "metadata": {
    "ExecuteTime": {
     "end_time": "2019-03-24T19:34:09.503115Z",
     "start_time": "2019-03-24T19:34:09.414353Z"
    }
   },
   "outputs": [],
   "source": [
    "sns.set_style('ticks')\n",
    "sns.countplot(x='sex', data=tips)\n",
    "sns.despine(left=True,bottom=True)"
   ]
  },
  {
   "cell_type": "markdown",
   "metadata": {},
   "source": [
    "## Size & Aspect"
   ]
  },
  {
   "cell_type": "markdown",
   "metadata": {},
   "source": [
    "* You can use matplotlib's **plt.figure(figsize=(width,height)** to change the size of most seaborn plots.\n",
    "\n",
    "* You can control the size and aspect ratio of most seaborn grid plots by passing in parameters: size, and aspect. For example:"
   ]
  },
  {
   "cell_type": "code",
   "execution_count": null,
   "metadata": {
    "ExecuteTime": {
     "end_time": "2019-03-24T19:34:10.435617Z",
     "start_time": "2019-03-24T19:34:10.328909Z"
    }
   },
   "outputs": [],
   "source": [
    "plt.figure(figsize=(12,5))\n",
    "sns.countplot(x='sex',data=tips)\n",
    "# When seaborn calls matplotlib, then matplotlib will set the figure size for the seaborn plot."
   ]
  },
  {
   "cell_type": "code",
   "execution_count": null,
   "metadata": {
    "ExecuteTime": {
     "end_time": "2019-03-24T19:34:11.122783Z",
     "start_time": "2019-03-24T19:34:10.828572Z"
    }
   },
   "outputs": [],
   "source": [
    "# Grid Type Plot\n",
    "sns.lmplot(x='total_bill',y='tip',size=8,aspect=4,data=tips)"
   ]
  },
  {
   "cell_type": "markdown",
   "metadata": {},
   "source": [
    "## Scale and Context\n",
    "\n",
    "* The set_context() allows you to override default parameters:\n",
    "* We can change the font scales, depending upon what we are creating the figure for.\n",
    "* Say we create a figure for poster and not for notebook\n"
   ]
  },
  {
   "cell_type": "code",
   "execution_count": null,
   "metadata": {
    "ExecuteTime": {
     "end_time": "2019-03-24T19:34:11.204528Z",
     "start_time": "2019-03-24T19:34:11.123745Z"
    }
   },
   "outputs": [],
   "source": [
    "sns.set_context('poster',font_scale=2) # 3 times the size of default poster\n",
    "sns.countplot(x = 'sex',data=tips)"
   ]
  },
  {
   "cell_type": "code",
   "execution_count": null,
   "metadata": {
    "ExecuteTime": {
     "end_time": "2019-03-24T19:34:11.305315Z",
     "start_time": "2019-03-24T19:34:11.205527Z"
    }
   },
   "outputs": [],
   "source": [
    "sns.set_context('notebook') # 3 times the size of default poster\n",
    "sns.countplot(x = 'sex',data=tips)"
   ]
  },
  {
   "cell_type": "markdown",
   "metadata": {},
   "source": [
    "* Palette and Colours : We've seen plots with hue parameters for categorical columns and separating 2 different categories on plots."
   ]
  },
  {
   "cell_type": "code",
   "execution_count": null,
   "metadata": {
    "ExecuteTime": {
     "end_time": "2019-03-24T19:34:14.236212Z",
     "start_time": "2019-03-24T19:34:14.017832Z"
    }
   },
   "outputs": [],
   "source": [
    "sns.lmplot(x='total_bill',y='tip',data=tips)"
   ]
  },
  {
   "cell_type": "code",
   "execution_count": null,
   "metadata": {
    "ExecuteTime": {
     "end_time": "2019-03-24T19:34:20.661680Z",
     "start_time": "2019-03-24T19:34:20.351549Z"
    }
   },
   "outputs": [],
   "source": [
    "sns.lmplot(x='total_bill',y='tip',data=tips,hue=\"sex\") # Hue to show separate colours for column sex"
   ]
  },
  {
   "cell_type": "code",
   "execution_count": null,
   "metadata": {
    "ExecuteTime": {
     "end_time": "2019-03-24T19:34:22.556250Z",
     "start_time": "2019-03-24T19:34:22.242142Z"
    }
   },
   "outputs": [],
   "source": [
    "# Palette argument to change colour\n",
    "sns.lmplot(x='total_bill',y='tip',data=tips,hue=\"sex\",palette='magma')"
   ]
  },
  {
   "cell_type": "markdown",
   "metadata": {},
   "source": [
    "* To get more info on these colormap page of matplotlib. \n",
    "* https://www.matplotlib.org/examples/color/colormaps_reference.html\n",
    "* Check out the documentation page for more info on these topics:\n",
    "https://stanford.edu/~mwaskom/software/seaborn/tutorial/aesthetics.html"
   ]
  }
 ],
 "metadata": {
  "kernelspec": {
   "display_name": "Python 3",
   "language": "python",
   "name": "python3"
  },
  "language_info": {
   "codemirror_mode": {
    "name": "ipython",
    "version": 3
   },
   "file_extension": ".py",
   "mimetype": "text/x-python",
   "name": "python",
   "nbconvert_exporter": "python",
   "pygments_lexer": "ipython3",
   "version": "3.6.8"
  },
  "toc": {
   "base_numbering": 1,
   "nav_menu": {},
   "number_sections": true,
   "sideBar": true,
   "skip_h1_title": false,
   "title_cell": "Table of Contents",
   "title_sidebar": "Contents",
   "toc_cell": false,
   "toc_position": {},
   "toc_section_display": true,
   "toc_window_display": false
  },
  "varInspector": {
   "cols": {
    "lenName": 16,
    "lenType": 16,
    "lenVar": 40
   },
   "kernels_config": {
    "python": {
     "delete_cmd_postfix": "",
     "delete_cmd_prefix": "del ",
     "library": "var_list.py",
     "varRefreshCmd": "print(var_dic_list())"
    },
    "r": {
     "delete_cmd_postfix": ") ",
     "delete_cmd_prefix": "rm(",
     "library": "var_list.r",
     "varRefreshCmd": "cat(var_dic_list()) "
    }
   },
   "types_to_exclude": [
    "module",
    "function",
    "builtin_function_or_method",
    "instance",
    "_Feature"
   ],
   "window_display": false
  }
 },
 "nbformat": 4,
 "nbformat_minor": 2
}
