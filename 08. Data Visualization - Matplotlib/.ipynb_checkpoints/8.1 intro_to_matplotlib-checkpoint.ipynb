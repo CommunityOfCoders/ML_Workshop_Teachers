{
 "cells": [
  {
   "cell_type": "markdown",
   "metadata": {},
   "source": [
    "___\n",
    "\n",
    "# Matplotlib Overview Lecture (Till Video 43. Matplotlib Pt. 2)"
   ]
  },
  {
   "cell_type": "markdown",
   "metadata": {},
   "source": [
    "* We have finished learning about Data Analysis Libraries, we now move towards visualizing the data.\n",
    "* We'll learn about Matplotlib first, followed by Seaborn for statistical plots.\n",
    "* After finishing the above two, we'll dive deep into Pandas built-in data visualization capabilities and then Plotly to create   some awesome interactive plots, with just few lines of Python code."
   ]
  },
  {
   "cell_type": "markdown",
   "metadata": {},
   "source": [
    "______\n",
    "# Introduction to Matplotlib"
   ]
  },
  {
   "cell_type": "markdown",
   "metadata": {},
   "source": [
    "* Matplotlib is one of the most popular plotting library for python.\n",
    "* Gives you complete control over almost every aspect of a figure or plot.\n",
    "* It was designed to have a similar feel to MatLab's graphical plotting.\n",
    "\n",
    "Matplotlib is the \"grandfather\" library of data visualization with Python. It was created by John Hunter. He created it to try to replicate MatLab's (another programming language) plotting capabilities in Python. So if you happen to be familiar with matlab, matplotlib will feel natural to you.\n",
    "\n",
    "It is an excellent 2D and 3D graphics library for generating scientific figures. \n",
    "\n",
    "Some of the major Pros of Matplotlib are:\n",
    "\n",
    "* Generally easy to get started for simple plots\n",
    "* Support for custom labels and texts\n",
    "* Great control of every element in a figure\n",
    "* High-quality output in many formats\n",
    "* Very customizable in general\n",
    "\n",
    "Matplotlib allows you to create reproducible figures programmatically. Let's learn how to use it! Before continuing this lecture, I encourage you just to explore the official Matplotlib web page: http://matplotlib.org/\n",
    "\n",
    "## Installation \n",
    "\n",
    "You'll need to install matplotlib first with either:\n",
    "\n",
    "    conda install matplotlib\n",
    "or\n",
    "    pip install matplotlib\n",
    "    \n",
    "## Importing"
   ]
  },
  {
   "cell_type": "markdown",
   "metadata": {},
   "source": [
    "Import the `matplotlib.pyplot` module under the name `plt` (the tidy way):"
   ]
  },
  {
   "cell_type": "code",
   "execution_count": null,
   "metadata": {},
   "outputs": [],
   "source": [
    "import matplotlib.pyplot as plt"
   ]
  },
  {
   "cell_type": "code",
   "execution_count": null,
   "metadata": {},
   "outputs": [],
   "source": [
    "%matplotlib inline"
   ]
  },
  {
   "cell_type": "markdown",
   "metadata": {},
   "source": [
    "> inline : Allows us to see the plots we create inside the jupyter notebook."
   ]
  },
  {
   "cell_type": "markdown",
   "metadata": {},
   "source": [
    "That line is only for jupyter notebooks, if you are using another editor, you'll use: **plt.show()** at the end of all your plotting commands to have the figure pop up in another window."
   ]
  },
  {
   "cell_type": "code",
   "execution_count": null,
   "metadata": {},
   "outputs": [],
   "source": [
    "import numpy as np\n",
    "x = np.linspace(0,5,11) # We go from 0 to 5 and grab 11 points which are linearly spaced.\n",
    "y = x ** 2"
   ]
  },
  {
   "cell_type": "code",
   "execution_count": null,
   "metadata": {},
   "outputs": [],
   "source": [
    "x # Array of numbers at the difference of 0.5"
   ]
  },
  {
   "cell_type": "code",
   "execution_count": null,
   "metadata": {},
   "outputs": [],
   "source": [
    "y # Array of numbers which are squared."
   ]
  },
  {
   "cell_type": "markdown",
   "metadata": {},
   "source": [
    "## Basic Matplotlib Commands\n",
    "\n",
    "We can create a very simple line plot using the following ( I encourage you to pause and use Shift+Tab along the way to check out the document strings for the functions we are using)."
   ]
  },
  {
   "cell_type": "markdown",
   "metadata": {},
   "source": [
    "Basic Matplotlib Commands allows us to create plots very quickly, there are 2 ways to create matplotlib plots :\n",
    "1. Functional Method\n",
    "2. Object Oriented Method\n",
    "We'll cover functional method first and then we will switch to object oriented method as that is usually the better way of creating a matplotlib plot."
   ]
  },
  {
   "cell_type": "code",
   "execution_count": null,
   "metadata": {},
   "outputs": [],
   "source": [
    "#  Functional Method\n",
    "plt.plot(x,y) # Most Basic way to plot\n",
    "\n",
    "# if not using jupyter notebook then use plt.show()"
   ]
  },
  {
   "cell_type": "code",
   "execution_count": null,
   "metadata": {},
   "outputs": [],
   "source": [
    "plt.plot(x,y,'r--')#Adding red colour like MatLab colour style, and -- is a kind of linestyle to generate plots with -- pattern.\n",
    "plt.xlabel(\"String for X Label\") # X-axis Label\n",
    "plt.ylabel(\"String for Y Label\") # Y-axis label\n",
    "plt.title(\"Title String\") # Title String for plot\n",
    "# Later we'll learn about how we can get better dpi, dots per inch to get better looking Fonts with more clarity as \n",
    "# title and labels.\n",
    "# Press Shift+Tab and read the docs on plt.plot() for more info about linestyle. More on it later in the notebooks."
   ]
  },
  {
   "cell_type": "code",
   "execution_count": null,
   "metadata": {},
   "outputs": [],
   "source": [
    "# Putting multiple plots on the same canvas.\n",
    "plt.subplot(1,2,1) # plt.subplot(nrows, ncols, plot_number)\n",
    "plt.plot(x, y, 'b--') # More on color options later # Plotting something on the cell created above with color blue using string 'b' as third argument.\n",
    "# Don't worry if you aren't understanding everything entirely, it will get better as we move to Object Oriented way of plotting.\n",
    "\n",
    "plt.subplot(1,2,2) # 1 Row, 2 columns, 2nd plot\n",
    "plt.plot(y, x, 'g*-')"
   ]
  },
  {
   "cell_type": "markdown",
   "metadata": {},
   "source": [
    "______________\n",
    "\n",
    "# Matplotlib Object Oriented Method\n",
    "Now that we've seen the basics, let's break it all down with a more formal introduction of Matplotlib's Object Oriented API. This means we will instantiate figure objects and then call methods or attributes from that object."
   ]
  },
  {
   "cell_type": "markdown",
   "metadata": {},
   "source": [
    "## Introduction to the Object Oriented Method"
   ]
  },
  {
   "cell_type": "markdown",
   "metadata": {},
   "source": [
    "The main idea in using the more formal Object Oriented method is to create figure objects and then just call methods or attributes off of that object. This approach is nicer when dealing with a canvas that has multiple plots on it. \n",
    "\n",
    "To begin we create a figure instance. Then we can add axes to that figure:"
   ]
  },
  {
   "cell_type": "code",
   "execution_count": null,
   "metadata": {},
   "outputs": [],
   "source": [
    "# Create Figure (empty canvas)\n",
    "fig = plt.figure()\n",
    "\n",
    "# Add set of axes to figure\n",
    "axes = fig.add_axes([0.1, 0.1, 0.8, 0.8]) # left, bottom, width, height (range 0 to 1). % of Blank Canvas you want to take.\n",
    "\n",
    "# Plot on that set of axes\n",
    "axes.plot(x, y, 'b')\n",
    "axes.set_xlabel('Set X Label') # Notice the use of set_ to begin methods in OO approach.\n",
    "axes.set_ylabel('Set y Label')\n",
    "axes.set_title('Set Title')"
   ]
  },
  {
   "cell_type": "markdown",
   "metadata": {},
   "source": [
    "> Code is a little more complicated, but the advantage is that we now have full control of where the plot axes are placed, and we can easily add more than one axis to the figure:"
   ]
  },
  {
   "cell_type": "code",
   "execution_count": null,
   "metadata": {},
   "outputs": [],
   "source": [
    "# Creates blank canvas\n",
    "fig = plt.figure() # Creating figure object\n",
    "\n",
    "# Manually adding axes and choosing the location and size\n",
    "axes1 = fig.add_axes([0.1, 0.1, 0.9, 0.9]) # main axes([left,bottom,width,height])\n",
    "axes2 = fig.add_axes([0.2, 0.5, 0.4, 0.3])  # 20% from the left, 50% from bottom,Takes up 40% of canvas size in width \n",
    "# and 30% of canvas size in height.\n",
    "\n",
    "# Larger Figure Axes 1\n",
    "axes1.plot(x, y, 'r*--')\n",
    "axes1.set_xlabel('X_label_axes2')\n",
    "axes1.set_ylabel('Y_label_axes2')\n",
    "axes1.set_title('Larger Plot')\n",
    "\n",
    "# Insert Figure Axes 2\n",
    "axes2.plot(y, x, 'g--')\n",
    "axes2.set_xlabel('X_label_axes2')\n",
    "axes2.set_ylabel('Y_label_axes2')\n",
    "axes2.set_title('Smaller Plot');\n",
    "\n"
   ]
  },
  {
   "cell_type": "markdown",
   "metadata": {},
   "source": [
    "## subplots()\n",
    "\n",
    "The plt.subplots() object will act as a more automatic axis manager.\n",
    "\n",
    "Basic use cases:"
   ]
  },
  {
   "cell_type": "code",
   "execution_count": null,
   "metadata": {},
   "outputs": [],
   "source": [
    "fig,axes = plt.subplots()\n",
    "# using axes object to plot on the canvas\n",
    "axes.plot(x,y)"
   ]
  },
  {
   "cell_type": "code",
   "execution_count": null,
   "metadata": {},
   "outputs": [],
   "source": [
    "# In subplots we can define the number of rows and columns for example :\n",
    "fig, axes = plt.subplots(nrows = 1, ncols = 2) # We get one row with 2 columns, kind of similar to when we used plt.figure()\n",
    "# Calls fig.add_axes on its own based on nrows and ncols parameter that we supply.\n"
   ]
  },
  {
   "cell_type": "code",
   "execution_count": null,
   "metadata": {},
   "outputs": [],
   "source": [
    "# Another example of 3x3 rows and columns subplots \n",
    "fig, axes = plt.subplots(nrows = 3, ncols = 3)"
   ]
  },
  {
   "cell_type": "code",
   "execution_count": null,
   "metadata": {},
   "outputs": [],
   "source": [
    "fig, axes = plt.subplots(nrows = 3, ncols = 3)\n",
    "plt.tight_layout()# More on how to deal with overlapping later on, for now to get the fix we use following"
   ]
  },
  {
   "cell_type": "code",
   "execution_count": null,
   "metadata": {},
   "outputs": [],
   "source": [
    "# Coming back to our 1x2 subplot\n",
    "fig,axes = plt.subplots(nrows=1,ncols=2) # plt.subplot is just an axis manager on top of plt.figure()\n",
    "# Instead of doing fig = plt.figure we are doing tuple enpacking and axes is just an list of axes object."
   ]
  },
  {
   "cell_type": "code",
   "execution_count": null,
   "metadata": {},
   "outputs": [],
   "source": [
    "axes # Showing that axes are basically list"
   ]
  },
  {
   "cell_type": "code",
   "execution_count": null,
   "metadata": {},
   "outputs": [],
   "source": [
    "fig,axes = plt.subplots(nrows=1,ncols=2) # Using tuple packing\n",
    "axes[0].plot(x,y) # Plotting on the first graph (left) using indexing in a list.\n",
    "axes[0].set_title('First Plot')\n",
    "axes[1].plot(y,x) # Plotting on the second graph (right)\n",
    "axes[1].set_title('Second Plot')\n",
    "# This method uses subplots for more intuitive approach to apply rows and columns. \n",
    "plt.tight_layout() # Takes care of overlapping plots. I'd recommend to add at the end of the plot statements."
   ]
  },
  {
   "cell_type": "markdown",
   "metadata": {},
   "source": [
    "### Figure size, aspect ratio and DPI"
   ]
  },
  {
   "cell_type": "markdown",
   "metadata": {},
   "source": [
    "Matplotlib allows the aspect ratio, DPI and figure size to be specified when the Figure object is created. You can use the `figsize` and `dpi` keyword arguments. \n",
    "* `figsize` is a tuple of the width and height of the figure in inches\n",
    "* `dpi` is the dots-per-inch (pixel per inch). \n",
    "\n",
    "For example:"
   ]
  },
  {
   "cell_type": "code",
   "execution_count": null,
   "metadata": {},
   "outputs": [],
   "source": [
    "fig = plt.figure(figsize=(3,2),dpi=200) # On a blank canvas making a figure and passing in a tuple to figsize x,y\n",
    "# x,y are width and height of figure in the inches.\n",
    "# Another argument that we have used is DPI and it stands for Dots per Inch/pixels per inch\n",
    "\n",
    "# Add a set of axes to the figure using\n",
    "# Change figsize parameters to make the figsize wide or to modify height.\n",
    "ax = fig.add_axes([0,0,1,1])\n",
    "ax.plot(x,y)"
   ]
  },
  {
   "cell_type": "code",
   "execution_count": null,
   "metadata": {},
   "outputs": [],
   "source": [
    "# Doing the same with subplots\n",
    "fig, axes = plt.subplots(nrows=2,ncols=1,figsize=(8,2),dpi=100)#Play with dpi, nrows, ncols, figsize parameters.\n",
    "axes[0].plot(x,y)\n",
    "axes[1].plot(y,x)\n",
    "plt.tight_layout()"
   ]
  },
  {
   "cell_type": "markdown",
   "metadata": {},
   "source": [
    "## Saving figures\n",
    "Matplotlib can generate high-quality output in a number formats, including PNG, JPG, EPS, SVG, PGF and PDF. "
   ]
  },
  {
   "cell_type": "markdown",
   "metadata": {},
   "source": [
    "To save a figure to a file we can use the `savefig` method in the `Figure` class:"
   ]
  },
  {
   "cell_type": "code",
   "execution_count": null,
   "metadata": {},
   "outputs": [],
   "source": [
    "# We have fig that we already created \n",
    "fig"
   ]
  },
  {
   "cell_type": "code",
   "execution_count": null,
   "metadata": {},
   "outputs": [],
   "source": [
    "# To save all it takes is fig.savefig('file_name.ext')\n",
    "fig.savefig('plot_x.jpeg',dpi=1000)#To have more detail increase the DPI."
   ]
  },
  {
   "cell_type": "code",
   "execution_count": null,
   "metadata": {},
   "outputs": [],
   "source": [
    "fig = plt.figure(figsize=(3,2),dpi=100)\n",
    "\n",
    "ax = fig.add_axes([0,0,1,1])\n",
    "ax.plot(x,y)\n",
    "ax.plot(y,x,'g')\n",
    "ax.set_title('Title')\n",
    "ax.set_xlabel('X-axis')\n",
    "ax.set_ylabel('Y-axis')"
   ]
  },
  {
   "cell_type": "code",
   "execution_count": null,
   "metadata": {},
   "outputs": [],
   "source": [
    "fig.savefig('fig_2.jpeg',dpi=200)"
   ]
  },
  {
   "cell_type": "markdown",
   "metadata": {},
   "source": [
    "____\n",
    "## Legends, labels and titles"
   ]
  },
  {
   "cell_type": "code",
   "execution_count": null,
   "metadata": {},
   "outputs": [],
   "source": [
    "fig = plt.figure(figsize=(3,2),dpi=140)\n",
    "\n",
    "ax = fig.add_axes([0,0,1,1])\n",
    "ax.plot(x,x**2,label='X Squared') # x square\n",
    "ax.plot(x,x**3,'g',label='X Cubed') # x cube\n",
    "ax.set_title('Title')\n",
    "ax.set_xlabel('X-axis')\n",
    "ax.set_ylabel('Y-axis')\n",
    "# If we look at the plot it would be a bit confusing to get an idea of what each plot represents.\n",
    "# That is why we go for adding a legend on our graph. It is a 2 step process :\n",
    "\n",
    "# Step 1 : Call fig_name/ax.legend() at the bottom of the code where axaes are defined. On doing this we get a warning.\n",
    "# Step 2 : To the plot calls we just made we add an argument label to those.\n",
    "# ax.legend() checks all the plot calls and looks for label parameter in them and prints it with color as legend box.\n",
    "ax.legend(loc=0) # 0 is location code for best placement of legend\n",
    "# Stay tuned for more on customising colours later.\n",
    "\n",
    "# Another way to supply location is feed in a tuple format where 0.1,0.1 means 10% from left and 10% from x-axis\n",
    "# ax.legend(loc=(0.1,0.1))"
   ]
  },
  {
   "cell_type": "markdown",
   "metadata": {},
   "source": [
    "**Figure titles**\n",
    "\n",
    "A title can be added to each axis instance in a figure. To set the title, use the `set_title` method in the axes instance:"
   ]
  },
  {
   "cell_type": "markdown",
   "metadata": {},
   "source": [
    "Notice how are legend overlaps some of the actual plot!\n",
    "\n",
    "The **legend** function takes an optional keyword argument **loc** that can be used to specify where in the figure the legend is to be drawn. The allowed values of **loc** are numerical codes for the various places the legend can be drawn. See the [documentation page](http://matplotlib.org/users/legend_guide.html#legend-location) for details. Some of the most common **loc** values are:"
   ]
  },
  {
   "cell_type": "markdown",
   "metadata": {},
   "source": [
    "# Up Next :\n",
    "\n",
    "Setting line-width, colors,line-types,markers,setting plot-range, discussion about special plot types which takes us to the seaborn for plotting instead of matplotlib."
   ]
  }
 ],
 "metadata": {
  "kernelspec": {
   "display_name": "Python 3",
   "language": "python",
   "name": "python3"
  },
  "language_info": {
   "codemirror_mode": {
    "name": "ipython",
    "version": 3
   },
   "file_extension": ".py",
   "mimetype": "text/x-python",
   "name": "python",
   "nbconvert_exporter": "python",
   "pygments_lexer": "ipython3",
   "version": "3.6.8"
  }
 },
 "nbformat": 4,
 "nbformat_minor": 2
}
