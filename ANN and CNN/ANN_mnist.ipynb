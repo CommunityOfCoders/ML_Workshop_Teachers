{
  "nbformat": 4,
  "nbformat_minor": 0,
  "metadata": {
    "kernelspec": {
      "name": "python3",
      "display_name": "Python 3"
    },
    "language_info": {
      "codemirror_mode": {
        "name": "ipython",
        "version": 3
      },
      "file_extension": ".py",
      "mimetype": "text/x-python",
      "name": "python",
      "nbconvert_exporter": "python",
      "pygments_lexer": "ipython3",
      "version": "3.5.1"
    },
    "colab": {
      "name": "MNIST in Keras.ipynb",
      "provenance": [],
      "collapsed_sections": []
    },
    "accelerator": "GPU"
  },
  "cells": [
    {
      "cell_type": "code",
      "metadata": {
        "id": "OnMUAugafGy1",
        "colab_type": "code",
        "colab": {}
      },
      "source": [
        "%matplotlib inline"
      ],
      "execution_count": 0,
      "outputs": []
    },
    {
      "cell_type": "markdown",
      "metadata": {
        "id": "pMXL-r38fGzV",
        "colab_type": "text"
      },
      "source": [
        "## Time to build a neural network!\n",
        "First let's import some prerequisites"
      ]
    },
    {
      "cell_type": "code",
      "metadata": {
        "id": "QBX-ZwNxfGzX",
        "colab_type": "code",
        "colab": {}
      },
      "source": [
        "from keras.datasets import mnist\n",
        "from keras import models\n",
        "from keras import layers\n",
        "from keras.utils import to_categorical\n",
        "import matplotlib.pyplot as plt\n",
        "import os\n",
        "os.environ['TF_CPP_MIN_LOG_LEVEL'] = '3'"
      ],
      "execution_count": 0,
      "outputs": []
    },
    {
      "cell_type": "markdown",
      "metadata": {
        "id": "Zqc0ZO2qfGzt",
        "colab_type": "text"
      },
      "source": [
        "\n",
        "## Load training data"
      ]
    },
    {
      "cell_type": "code",
      "metadata": {
        "id": "_mL9rI-yfGzu",
        "colab_type": "code",
        "colab": {}
      },
      "source": [
        "(train_images, train_labels), (test_images, test_labels) = mnist.load_data()"
      ],
      "execution_count": 0,
      "outputs": []
    },
    {
      "cell_type": "markdown",
      "metadata": {
        "id": "CxD0IEKlfGzx",
        "colab_type": "text"
      },
      "source": [
        "Let's look at some examples of the training data"
      ]
    },
    {
      "cell_type": "code",
      "metadata": {
        "id": "ZexHzzHsfGzy",
        "colab_type": "code",
        "outputId": "eb8c7e4a-f879-45fe-f32f-7ba9740a276b",
        "colab": {
          "base_uri": "https://localhost:8080/",
          "height": 316
        }
      },
      "source": [
        "for i in range(9):\n",
        "    plt.subplot(3,3,i+1)\n",
        "    plt.imshow(train_images[i], cmap='gray', interpolation='none')\n",
        "    plt.subplots_adjust(top=1, wspace=0.5, hspace=0.5)\n",
        "    plt.title(\"Class {}\".format(train_labels[i]))"
      ],
      "execution_count": 0,
      "outputs": [
        {
          "output_type": "display_data",
          "data": {
            "image/png": "[encoded data removed]",
            "text/plain": [
              "<Figure size 432x288 with 9 Axes>"
            ]
          },
          "metadata": {
            "tags": []
          }
        }
      ]
    },
    {
      "cell_type": "markdown",
      "metadata": {
        "id": "tUZehyetnlIa",
        "colab_type": "text"
      },
      "source": [
        "## Keras Model"
      ]
    },
    {
      "cell_type": "code",
      "metadata": {
        "id": "aFMaezRwfG0M",
        "colab_type": "code",
        "outputId": "a968e6ca-d590-4cbb-bbdd-88fdd2e5ca2f",
        "colab": {
          "base_uri": "https://localhost:8080/",
          "height": 289
        }
      },
      "source": [
        "input_dim = 28*28\n",
        "\n",
        "input_layer = layers.Input(shape=(input_dim,))\n",
        "hidden1 = layers.Dense(256, activation='relu')(input_layer)\n",
        "hidden2 = layers.Dense(64, activation='relu')(hidden1)\n",
        "output_layer = layers.Dense(10, activation='softmax')(hidden2)\n",
        "\n",
        "model = models.Model(inputs=input_layer, outputs=output_layer)\n",
        "\n",
        "# network = models.Sequential()\n",
        "\n",
        "# input = network.add(layers.Dense(input_shape=(28 * 28,), activation='relu'))\n",
        "# hidden1 = network.add(layers.Dense(activation='relu', input_shape=(28 * 28,)))\n",
        "# network.add(layers.Dense(10, activation='softmax'))\n",
        "\n",
        "model.compile(optimizer='adam',\n",
        "              loss='categorical_crossentropy',\n",
        "              metrics=['accuracy'])\n",
        "\n",
        "model.summary()"
      ],
      "execution_count": 0,
      "outputs": [
        {
          "output_type": "stream",
          "text": [
            "Model: \"model_3\"\n",
            "_________________________________________________________________\n",
            "Layer (type)                 Output Shape              Param #   \n",
            "=================================================================\n",
            "input_3 (InputLayer)         (None, 784)               0         \n",
            "_________________________________________________________________\n",
            "dense_7 (Dense)              (None, 256)               200960    \n",
            "_________________________________________________________________\n",
            "dense_8 (Dense)              (None, 64)                16448     \n",
            "_________________________________________________________________\n",
            "dense_9 (Dense)              (None, 10)                650       \n",
            "=================================================================\n",
            "Total params: 218,058\n",
            "Trainable params: 218,058\n",
            "Non-trainable params: 0\n",
            "_________________________________________________________________\n"
          ],
          "name": "stdout"
        }
      ]
    },
    {
      "cell_type": "markdown",
      "metadata": {
        "id": "1fkKeLN6nqU9",
        "colab_type": "text"
      },
      "source": [
        "## Transforming data"
      ]
    },
    {
      "cell_type": "code",
      "metadata": {
        "id": "pkCjJA9KfG0e",
        "colab_type": "code",
        "colab": {}
      },
      "source": [
        "train_images = train_images.reshape((60000, 28 * 28))\n",
        "train_images = train_images.astype('float32') / 255\n",
        "test_images = test_images.reshape((10000, 28 * 28))\n",
        "test_images = test_images.astype('float32') / 255"
      ],
      "execution_count": 0,
      "outputs": []
    },
    {
      "cell_type": "code",
      "metadata": {
        "id": "TOx4PCFUfG0h",
        "colab_type": "code",
        "colab": {}
      },
      "source": [
        "train_labels = to_categorical(train_labels)\n",
        "test_labels = to_categorical(test_labels)"
      ],
      "execution_count": 0,
      "outputs": []
    },
    {
      "cell_type": "markdown",
      "metadata": {
        "id": "q1cIcTBNnwiJ",
        "colab_type": "text"
      },
      "source": [
        "## Training Model"
      ]
    },
    {
      "cell_type": "code",
      "metadata": {
        "id": "eyhjbX2ffG0q",
        "colab_type": "code",
        "outputId": "6892eccd-78f5-4efb-f20a-2c9cd204cdb4",
        "colab": {
          "base_uri": "https://localhost:8080/",
          "height": 187
        }
      },
      "source": [
        "# model.fit(train_images, train_labels, epochs=5, batch_size=128)\n",
        "history = model.fit(train_images, train_labels,\n",
        "                    epochs=5,\n",
        "                    batch_size=128,\n",
        "                    shuffle=True).history"
      ],
      "execution_count": 0,
      "outputs": [
        {
          "output_type": "stream",
          "text": [
            "Epoch 1/5\n",
            "60000/60000 [==============================] - 2s 38us/step - loss: 0.0081 - acc: 0.9973\n",
            "Epoch 2/5\n",
            "60000/60000 [==============================] - 2s 34us/step - loss: 0.0096 - acc: 0.9968\n",
            "Epoch 3/5\n",
            "60000/60000 [==============================] - 2s 37us/step - loss: 0.0042 - acc: 0.9987\n",
            "Epoch 4/5\n",
            "60000/60000 [==============================] - 2s 33us/step - loss: 0.0039 - acc: 0.9988\n",
            "Epoch 5/5\n",
            "60000/60000 [==============================] - 2s 34us/step - loss: 0.0057 - acc: 0.9982\n"
          ],
          "name": "stdout"
        }
      ]
    },
    {
      "cell_type": "markdown",
      "metadata": {
        "id": "1DGpqsTWn1Pp",
        "colab_type": "text"
      },
      "source": [
        "## Testing and Evaluation"
      ]
    },
    {
      "cell_type": "code",
      "metadata": {
        "id": "T84r4JWKfG00",
        "colab_type": "code",
        "outputId": "2188dc5c-f7a3-4a4e-e78d-b31fd3fbbf1e",
        "colab": {
          "base_uri": "https://localhost:8080/",
          "height": 51
        }
      },
      "source": [
        "test_loss, test_acc = model.evaluate(test_images, test_labels)\n",
        "print('test_acc:', test_acc, 'test_loss', test_loss)"
      ],
      "execution_count": 0,
      "outputs": [
        {
          "output_type": "stream",
          "text": [
            "10000/10000 [==============================] - 0s 38us/step\n",
            "test_acc: 0.9793 test_loss 0.09009196095700868\n"
          ],
          "name": "stdout"
        }
      ]
    },
    {
      "cell_type": "code",
      "metadata": {
        "id": "ZaehYxv6pkE7",
        "colab_type": "code",
        "colab": {}
      },
      "source": [
        ""
      ],
      "execution_count": 0,
      "outputs": []
    }
  ]
}