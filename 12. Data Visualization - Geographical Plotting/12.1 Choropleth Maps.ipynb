{
 "cells": [
  {
   "cell_type": "markdown",
   "metadata": {},
   "source": [
    "___\n",
    "\n",
    "<a href='https://github.com/ai-vithink'> <img src='https://avatars1.githubusercontent.com/u/41588940?s=200&v=4' /></a>\n",
    "___"
   ]
  },
  {
   "cell_type": "markdown",
   "metadata": {},
   "source": [
    "# Choropleth Maps\n",
    "## Offline Plotly Usage\n"
   ]
  },
  {
   "cell_type": "markdown",
   "metadata": {},
   "source": [
    "**Get imports and set everything up to be working offline.**"
   ]
  },
  {
   "cell_type": "code",
   "execution_count": null,
   "metadata": {
    "ExecuteTime": {
     "end_time": "2019-05-07T05:29:46.414307Z",
     "start_time": "2019-05-07T05:29:46.410346Z"
    }
   },
   "outputs": [],
   "source": [
    "from IPython.display import HTML\n",
    "HTML('''<script>\n",
    "code_show_err=false; \n",
    "function code_toggle_err() {\n",
    " if (code_show_err){\n",
    " $('div.output_stderr').hide();\n",
    " } else {\n",
    " $('div.output_stderr').show();\n",
    " }\n",
    " code_show_err = !code_show_err\n",
    "} \n",
    "$( document ).ready(code_toggle_err);\n",
    "</script>\n",
    "To toggle on/off output_stderr, click <a href=\"javascript:code_toggle_err()\">here</a>.''')\n",
    "# To hide warnings, which won't change the desired outcome."
   ]
  },
  {
   "cell_type": "code",
   "execution_count": null,
   "metadata": {
    "ExecuteTime": {
     "end_time": "2019-05-07T05:29:47.986307Z",
     "start_time": "2019-05-07T05:29:47.981355Z"
    }
   },
   "outputs": [],
   "source": [
    "%%HTML\n",
    "<style type=\"text/css\">\n",
    "table.dataframe td, table.dataframe th {\n",
    "    border: 3px  black solid !important;\n",
    "  color: black !important;\n",
    "}\n",
    "# For having gridlines "
   ]
  },
  {
   "cell_type": "code",
   "execution_count": null,
   "metadata": {
    "ExecuteTime": {
     "end_time": "2019-05-07T05:56:45.090905Z",
     "start_time": "2019-05-07T05:56:45.087952Z"
    }
   },
   "outputs": [],
   "source": [
    "import warnings\n",
    "warnings.filterwarnings(\"ignore\")\n"
   ]
  },
  {
   "cell_type": "code",
   "execution_count": null,
   "metadata": {
    "ExecuteTime": {
     "end_time": "2019-05-07T05:56:46.063061Z",
     "start_time": "2019-05-07T05:56:46.058078Z"
    }
   },
   "outputs": [],
   "source": [
    "import pandas as pd\n",
    "import numpy as np\n",
    "%matplotlib inline"
   ]
  },
  {
   "cell_type": "code",
   "execution_count": null,
   "metadata": {
    "ExecuteTime": {
     "end_time": "2019-05-07T05:58:50.764792Z",
     "start_time": "2019-05-07T05:58:50.760841Z"
    }
   },
   "outputs": [],
   "source": [
    "import plotly.plotly as py\n",
    "import plotly.graph_objs as go \n",
    "from plotly.offline import download_plotlyjs, init_notebook_mode, plot, iplot\n",
    "init_notebook_mode(connected=True) "
   ]
  },
  {
   "cell_type": "markdown",
   "metadata": {},
   "source": [
    "Now set up everything so that the figures show up in the notebook:"
   ]
  },
  {
   "cell_type": "markdown",
   "metadata": {},
   "source": [
    "More info on other options for Offline Plotly usage can be found [here](https://plot.ly/python/offline/)."
   ]
  },
  {
   "cell_type": "markdown",
   "metadata": {},
   "source": [
    "## Choropleth US Maps\n",
    "\n",
    "Plotly's mapping can be a bit hard to get used to at first, remember to reference the cheat sheet in the data visualization folder, or [find it online here](https://images.plot.ly/plotly-documentation/images/python_cheat_sheet.pdf)."
   ]
  },
  {
   "cell_type": "markdown",
   "metadata": {},
   "source": [
    "Now we need to begin to build our data dictionary. Easiest way to do this is to use the **dict()** function of the general form:\n",
    "\n",
    "* type = 'choropleth',\n",
    "* locations = list of states\n",
    "* locationmode = 'USA-states'\n",
    "* colorscale= \n",
    "\n",
    "Either a predefined string:\n",
    "\n",
    "    'pairs' | 'Greys' | 'Greens' | 'Bluered' | 'Hot' | 'Picnic' | 'Portland' | 'Jet' | 'RdBu' | 'Blackbody' | 'Earth' | 'Electric' | 'YIOrRd' | 'YIGnBu'\n",
    "\n",
    "or create a [custom colorscale](https://plot.ly/python/heatmap-and-contour-colorscales/)\n",
    "\n",
    "* text= list or array of text to display per point\n",
    "* z= array of values on z axis (color of state)\n",
    "* colorbar = {'title':'Colorbar Title'})\n",
    "\n",
    "Here is a simple example:"
   ]
  },
  {
   "cell_type": "markdown",
   "metadata": {},
   "source": [
    "* We will learn how to create choropleth maps which will allow us to plot out information either on a global scale\n",
    "* or a nation wide level.\n",
    "* Building data dictionary to cast list into a dictionary.\n",
    "* Set dict type = 'choropleth', then take locations i.e. a list of states we use abbreviation.\n",
    "* locationmode = USA-states to let plotly know that we are doing this on US level.\n",
    "    ** There are other locationmode as well, check it out in the links provided in this notebook.\n",
    "* Colorscale to Portland, which can be something else of your choice as well like Green, Greys etc.\n",
    "* Text is another key which is a list containing what hovers over each location on taking the cursor on them.\n",
    "* z : Whatever value we want to represent as colour.\n",
    "* colorbar : An argument dictionary with key-value pair."
   ]
  },
  {
   "cell_type": "code",
   "execution_count": null,
   "metadata": {
    "ExecuteTime": {
     "end_time": "2019-05-07T06:16:12.240783Z",
     "start_time": "2019-05-07T06:16:12.236794Z"
    }
   },
   "outputs": [],
   "source": [
    "data = dict(type = 'choropleth',\n",
    "            locations = ['AZ','CA','NY'],\n",
    "            locationmode = 'USA-states',\n",
    "            colorscale= 'Portland',\n",
    "            text= ['Arizona','California','Newyork'],\n",
    "            z=[1.0,2.0,3.0],\n",
    "            colorbar = {'title':'Colorbar Title'})\n",
    "# colorscale Jet,Greens can be used as well."
   ]
  },
  {
   "cell_type": "code",
   "execution_count": null,
   "metadata": {
    "ExecuteTime": {
     "end_time": "2019-05-07T06:16:12.755874Z",
     "start_time": "2019-05-07T06:16:12.751884Z"
    },
    "scrolled": true
   },
   "outputs": [],
   "source": [
    "data"
   ]
  },
  {
   "cell_type": "markdown",
   "metadata": {},
   "source": [
    "Then we use: \n",
    "\n",
    "    go.Figure(data = [data],layout = layout)\n",
    "    \n",
    "to set up the object that finally gets passed into iplot()"
   ]
  },
  {
   "cell_type": "code",
   "execution_count": null,
   "metadata": {
    "ExecuteTime": {
     "end_time": "2019-05-07T06:16:18.432841Z",
     "start_time": "2019-05-07T06:16:18.397877Z"
    }
   },
   "outputs": [],
   "source": [
    "# Creating layout object\n",
    "# layout is a nested dictionary.\n",
    "layout = dict(geo = {'scope':'usa'})\n",
    "\n",
    "# As we did import plotly.graph_objs as go\n",
    "choromap = go.Figure(data = [data], layout=layout)\n",
    "# Passes dictionary inside a list [data]\n"
   ]
  },
  {
   "cell_type": "code",
   "execution_count": null,
   "metadata": {
    "ExecuteTime": {
     "end_time": "2019-05-07T06:16:19.853817Z",
     "start_time": "2019-05-07T06:16:19.849828Z"
    }
   },
   "outputs": [],
   "source": [
    "iplot(choromap)\n",
    "# We take data and layout variables and we pass these to the go.Figure(function) and name it choromap and pass it to iplot.\n",
    "# Just passin plot(choromap) will end up opening the map you see below in a new tab and you can save it."
   ]
  },
  {
   "cell_type": "markdown",
   "metadata": {},
   "source": [
    "### Real Data US Map Choropleth\n",
    "\n",
    "Now let's show an example with some real data as well as some other options we can add to the dictionaries in data and layout."
   ]
  },
  {
   "cell_type": "code",
   "execution_count": null,
   "metadata": {
    "ExecuteTime": {
     "end_time": "2019-05-07T06:26:59.760268Z",
     "start_time": "2019-05-07T06:26:59.748301Z"
    }
   },
   "outputs": [],
   "source": [
    "df = pd.read_csv('2011_US_AGRI_Exports')"
   ]
  },
  {
   "cell_type": "code",
   "execution_count": null,
   "metadata": {
    "ExecuteTime": {
     "end_time": "2019-05-07T06:27:05.156200Z",
     "start_time": "2019-05-07T06:27:05.139245Z"
    }
   },
   "outputs": [],
   "source": [
    "df.head()"
   ]
  },
  {
   "cell_type": "markdown",
   "metadata": {
    "ExecuteTime": {
     "end_time": "2019-05-07T06:29:19.745565Z",
     "start_time": "2019-05-07T06:29:19.742606Z"
    }
   },
   "source": [
    "* Creating our data and layout variable.\n",
    "* Data will have dictionary casting and type will be choropleth, pass colorscale,locations (list of state codes),next we give locationmode.\n",
    "* z is what colorbar represents say total exports here, then text\n",
    "* marker : A set of nested dictionaries where you cast color inside the dict"
   ]
  },
  {
   "cell_type": "code",
   "execution_count": null,
   "metadata": {
    "ExecuteTime": {
     "end_time": "2019-05-07T06:51:57.401442Z",
     "start_time": "2019-05-07T06:51:57.397456Z"
    }
   },
   "outputs": [],
   "source": [
    "data = dict(type='choropleth',\n",
    "            colorscale = 'Hot',\n",
    "            locations = df['code'],\n",
    "            z = df['total exports'],\n",
    "            locationmode = 'USA-states',\n",
    "            text = df['text'],\n",
    "            marker = dict(line = dict(color = 'rgb(255,255,255)',width = 2)),\n",
    "            colorbar = {'title':\"Millions USD\"}\n",
    "            ) "
   ]
  },
  {
   "cell_type": "markdown",
   "metadata": {},
   "source": [
    "## NOTE : Colorscales \n",
    "*  The 'colorscale' property is a colorscale and may be\n",
    "    specified as:\n",
    "      - A list of 2-element lists where the first element is the\n",
    "        normalized color level value (starting at 0 and ending at 1), \n",
    "        and the second item is a valid color string.\n",
    "        (e.g. [[0, 'green'], [0.5, 'red'], [1.0, 'rgb(0, 0, 255)']])\n",
    "      - One of the following named colorscales:\n",
    "            ['Greys', 'YlGnBu', 'Greens', 'YlOrRd', 'Bluered', 'RdBu',\n",
    "            'Reds', 'Blues', 'Picnic', 'Rainbow', 'Portland', 'Jet',\n",
    "            'Hot', 'Blackbody', 'Earth', 'Electric', 'Viridis', 'Cividis']\n",
    "        "
   ]
  },
  {
   "cell_type": "code",
   "execution_count": null,
   "metadata": {
    "ExecuteTime": {
     "end_time": "2019-05-07T06:51:57.847571Z",
     "start_time": "2019-05-07T06:51:57.840625Z"
    }
   },
   "outputs": [],
   "source": [
    "data"
   ]
  },
  {
   "cell_type": "code",
   "execution_count": null,
   "metadata": {
    "ExecuteTime": {
     "end_time": "2019-05-07T06:51:58.025749Z",
     "start_time": "2019-05-07T06:51:58.022793Z"
    }
   },
   "outputs": [],
   "source": [
    "# Pass in geo with dict of scope as USA and 2 arguments , first showlakes and setting it True shows the lakes in map and lake\n",
    "# color. \n",
    "layout = dict(title = '2011 US Agriculture Exports by State',\n",
    "              geo = dict(scope='usa',\n",
    "                         showlakes = True,\n",
    "                         lakecolor = 'rgb(85,173,240)')\n",
    "             )"
   ]
  },
  {
   "cell_type": "code",
   "execution_count": null,
   "metadata": {
    "ExecuteTime": {
     "end_time": "2019-05-07T06:51:58.227465Z",
     "start_time": "2019-05-07T06:51:58.223474Z"
    }
   },
   "outputs": [],
   "source": [
    "layout\n",
    "# Somewhat weird nested dictionary structure"
   ]
  },
  {
   "cell_type": "code",
   "execution_count": null,
   "metadata": {
    "ExecuteTime": {
     "end_time": "2019-05-07T06:51:58.635297Z",
     "start_time": "2019-05-07T06:51:58.600389Z"
    }
   },
   "outputs": [],
   "source": [
    "choromap2 = go.Figure(data = [data],layout = layout)"
   ]
  },
  {
   "cell_type": "code",
   "execution_count": null,
   "metadata": {
    "ExecuteTime": {
     "end_time": "2019-05-07T06:56:15.311140Z",
     "start_time": "2019-05-07T06:56:15.304159Z"
    }
   },
   "outputs": [],
   "source": [
    "iplot(choromap2)\n",
    "# Notice how lakes are shown with light blue corner at top right edge.\n",
    "# There is a spacing between states and that is achieved using marker, changing width would change spacing between states.\n",
    "# Making these plots aren't something you can remember without any misakes, reading documentation and a bit of stackoverflow\n",
    "# every now and then is the way to do this properly."
   ]
  },
  {
   "cell_type": "markdown",
   "metadata": {},
   "source": [
    "# Next : We will see how to do global choropleth in 11.2"
   ]
  },
  {
   "cell_type": "code",
   "execution_count": null,
   "metadata": {},
   "outputs": [],
   "source": []
  }
 ],
 "metadata": {
  "kernelspec": {
   "display_name": "Python 3",
   "language": "python",
   "name": "python3"
  },
  "language_info": {
   "codemirror_mode": {
    "name": "ipython",
    "version": 3
   },
   "file_extension": ".py",
   "mimetype": "text/x-python",
   "name": "python",
   "nbconvert_exporter": "python",
   "pygments_lexer": "ipython3",
   "version": "3.6.8"
  },
  "toc": {
   "base_numbering": 1,
   "nav_menu": {},
   "number_sections": true,
   "sideBar": true,
   "skip_h1_title": false,
   "title_cell": "Table of Contents",
   "title_sidebar": "Contents",
   "toc_cell": false,
   "toc_position": {},
   "toc_section_display": true,
   "toc_window_display": false
  },
  "varInspector": {
   "cols": {
    "lenName": 16,
    "lenType": 16,
    "lenVar": 40
   },
   "kernels_config": {
    "python": {
     "delete_cmd_postfix": "",
     "delete_cmd_prefix": "del ",
     "library": "var_list.py",
     "varRefreshCmd": "print(var_dic_list())"
    },
    "r": {
     "delete_cmd_postfix": ") ",
     "delete_cmd_prefix": "rm(",
     "library": "var_list.r",
     "varRefreshCmd": "cat(var_dic_list()) "
    }
   },
   "types_to_exclude": [
    "module",
    "function",
    "builtin_function_or_method",
    "instance",
    "_Feature"
   ],
   "window_display": false
  }
 },
 "nbformat": 4,
 "nbformat_minor": 2
}
