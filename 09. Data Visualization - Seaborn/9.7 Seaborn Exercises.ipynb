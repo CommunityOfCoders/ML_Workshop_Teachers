{
 "cells": [
  {
   "cell_type": "markdown",
   "metadata": {},
   "source": [
    "___\n",
    "\n",
    "<a href='https://github.com/ai-vithink'> <img src='https://avatars1.githubusercontent.com/u/41588940?s=200&v=4' /></a>\n",
    "___\n",
    "# Seaborn Exercises\n",
    "\n",
    "Time to practice your new seaborn skills! Try to recreate the plots below (don't worry about color schemes, just the plot itself."
   ]
  },
  {
   "cell_type": "markdown",
   "metadata": {},
   "source": [
    "## The Data\n",
    "\n",
    "We will be working with a famous titanic data set for these exercises. Later on in the Machine Learning section of the course, we will revisit this data, and use it to predict survival rates of passengers. For now, we'll just focus on the visualization of the data with seaborn:"
   ]
  },
  {
   "cell_type": "code",
   "execution_count": null,
   "metadata": {
    "ExecuteTime": {
     "end_time": "2019-03-24T19:51:32.215766Z",
     "start_time": "2019-03-24T19:51:31.602442Z"
    }
   },
   "outputs": [],
   "source": [
    "import seaborn as sns\n",
    "import matplotlib.pyplot as plt\n",
    "%matplotlib inline\n",
    "import scipy.stats as stats"
   ]
  },
  {
   "cell_type": "code",
   "execution_count": null,
   "metadata": {
    "ExecuteTime": {
     "end_time": "2019-03-24T19:51:46.276711Z",
     "start_time": "2019-03-24T19:51:46.270751Z"
    }
   },
   "outputs": [],
   "source": [
    "from IPython.display import HTML\n",
    "HTML('''<script>\n",
    "code_show_err=false; \n",
    "function code_toggle_err() {\n",
    " if (code_show_err){\n",
    " $('div.output_stderr').hide();\n",
    " } else {\n",
    " $('div.output_stderr').show();\n",
    " }\n",
    " code_show_err = !code_show_err\n",
    "} \n",
    "$( document ).ready(code_toggle_err);\n",
    "</script>\n",
    "To toggle on/off output_stderr, click <a href=\"javascript:code_toggle_err()\">here</a>.''')\n",
    "# To hide warnings, which won't change the desired outcome."
   ]
  },
  {
   "cell_type": "code",
   "execution_count": null,
   "metadata": {
    "ExecuteTime": {
     "end_time": "2019-03-24T19:51:58.078077Z",
     "start_time": "2019-03-24T19:51:58.073128Z"
    }
   },
   "outputs": [],
   "source": [
    "%%HTML\n",
    "<style type=\"text/css\">\n",
    "table.dataframe td, table.dataframe th {\n",
    "    border: 3px  black solid !important;\n",
    "  color: black !important;\n",
    "}\n",
    "# For having gridlines "
   ]
  },
  {
   "cell_type": "code",
   "execution_count": null,
   "metadata": {
    "ExecuteTime": {
     "end_time": "2019-03-24T19:52:05.883220Z",
     "start_time": "2019-03-24T19:52:05.880237Z"
    }
   },
   "outputs": [],
   "source": [
    "import warnings\n",
    "warnings.filterwarnings(\"ignore\")\n",
    "sns.set_style('darkgrid')"
   ]
  },
  {
   "cell_type": "code",
   "execution_count": null,
   "metadata": {
    "ExecuteTime": {
     "end_time": "2019-03-24T19:52:19.892332Z",
     "start_time": "2019-03-24T19:52:19.889378Z"
    }
   },
   "outputs": [],
   "source": [
    "sns.set_style('whitegrid')"
   ]
  },
  {
   "cell_type": "code",
   "execution_count": null,
   "metadata": {
    "ExecuteTime": {
     "end_time": "2019-03-24T19:52:22.797208Z",
     "start_time": "2019-03-24T19:52:22.761279Z"
    }
   },
   "outputs": [],
   "source": [
    "titanic = sns.load_dataset('titanic')"
   ]
  },
  {
   "cell_type": "code",
   "execution_count": null,
   "metadata": {
    "ExecuteTime": {
     "end_time": "2019-03-24T19:52:23.436440Z",
     "start_time": "2019-03-24T19:52:23.417527Z"
    }
   },
   "outputs": [],
   "source": [
    "titanic.head()"
   ]
  },
  {
   "cell_type": "markdown",
   "metadata": {},
   "source": [
    "# Exercises\n",
    "\n",
    "**Recreate the plots below using the titanic dataframe. There are very few hints since most of the plots can be done with just one or two lines of code and a hint would basically give away the solution. Keep careful attention to the x and y labels for hints.**\n",
    "\n",
    "**Note! In order to not lose the plot image, make sure you don't code in the cell that is directly above the plot, there is an extra cell above that one which won't overwrite that plot!* **"
   ]
  },
  {
   "cell_type": "code",
   "execution_count": null,
   "metadata": {
    "ExecuteTime": {
     "end_time": "2019-03-24T19:52:40.414853Z",
     "start_time": "2019-03-24T19:52:40.065817Z"
    }
   },
   "outputs": [],
   "source": [
    "# CODE HERE\n",
    "# REPLICATE EXERCISE PLOT IMAGE BELOW\n",
    "# BE CAREFUL NOT TO OVERWRITE CELL BELOW\n",
    "# THAT WOULD REMOVE THE EXERCISE PLOT IMAGE!\n",
    "a = sns.jointplot(x = 'fare',y='age',data=titanic)\n",
    "a.annotate(stats.pearsonr)"
   ]
  },
  {
   "cell_type": "code",
   "execution_count": null,
   "metadata": {},
   "outputs": [],
   "source": []
  },
  {
   "cell_type": "code",
   "execution_count": null,
   "metadata": {
    "ExecuteTime": {
     "end_time": "2019-03-24T19:53:41.537222Z",
     "start_time": "2019-03-24T19:53:41.401623Z"
    }
   },
   "outputs": [],
   "source": [
    "# CODE HERE\n",
    "# REPLICATE EXERCISE PLOT IMAGE BELOW\n",
    "# BE CAREFUL NOT TO OVERWRITE CELL BELOW\n",
    "# THAT WOULD REMOVE THE EXERCISE PLOT IMAGE!\n",
    "sns.distplot(titanic['fare'],bins=30,kde=False,color='red')"
   ]
  },
  {
   "cell_type": "code",
   "execution_count": null,
   "metadata": {},
   "outputs": [],
   "source": []
  },
  {
   "cell_type": "code",
   "execution_count": null,
   "metadata": {
    "ExecuteTime": {
     "end_time": "2019-03-24T19:54:43.914314Z",
     "start_time": "2019-03-24T19:54:43.800654Z"
    }
   },
   "outputs": [],
   "source": [
    "# CODE HERE\n",
    "# REPLICATE EXERCISE PLOT IMAGE BELOW\n",
    "# BE CAREFUL NOT TO OVERWRITE CELL BELOW\n",
    "# THAT WOULD REMOVE THE EXERCISE PLOT IMAGE!\n",
    "sns.boxplot(x='class',y='age',data=titanic,palette='rainbow')"
   ]
  },
  {
   "cell_type": "code",
   "execution_count": null,
   "metadata": {},
   "outputs": [],
   "source": []
  },
  {
   "cell_type": "code",
   "execution_count": null,
   "metadata": {
    "ExecuteTime": {
     "end_time": "2019-03-24T19:55:40.190055Z",
     "start_time": "2019-03-24T19:55:39.855950Z"
    }
   },
   "outputs": [],
   "source": [
    "# CODE HERE\n",
    "# REPLICATE EXERCISE PLOT IMAGE BELOW\n",
    "# BE CAREFUL NOT TO OVERWRITE CELL BELOW\n",
    "# THAT WOULD REMOVE THE EXERCISE PLOT IMAGE!\n",
    "sns.swarmplot(x='class',y='age',data=titanic,palette='Set2')"
   ]
  },
  {
   "cell_type": "code",
   "execution_count": null,
   "metadata": {},
   "outputs": [],
   "source": []
  },
  {
   "cell_type": "code",
   "execution_count": null,
   "metadata": {
    "ExecuteTime": {
     "end_time": "2019-03-24T19:56:33.040741Z",
     "start_time": "2019-03-24T19:56:32.958966Z"
    }
   },
   "outputs": [],
   "source": [
    "# CODE HERE\n",
    "# REPLICATE EXERCISE PLOT IMAGE BELOW\n",
    "# BE CAREFUL NOT TO OVERWRITE CELL BELOW\n",
    "# THAT WOULD REMOVE THE EXERCISE PLOT IMAGE!\n",
    "sns.countplot(x='sex',data=titanic)"
   ]
  },
  {
   "cell_type": "code",
   "execution_count": null,
   "metadata": {},
   "outputs": [],
   "source": []
  },
  {
   "cell_type": "code",
   "execution_count": null,
   "metadata": {
    "ExecuteTime": {
     "end_time": "2019-03-24T19:57:39.897986Z",
     "start_time": "2019-03-24T19:57:39.883010Z"
    }
   },
   "outputs": [],
   "source": [
    "# CODE HERE\n",
    "# REPLICATE EXERCISE PLOT IMAGE BELOW\n",
    "# BE CAREFUL NOT TO OVERWRITE CELL BELOW\n",
    "# THAT WOULD REMOVE THE EXERCISE PLOT IMAGE!\n",
    "titanic.head()"
   ]
  },
  {
   "cell_type": "code",
   "execution_count": null,
   "metadata": {
    "ExecuteTime": {
     "end_time": "2019-03-24T19:58:04.938965Z",
     "start_time": "2019-03-24T19:58:04.928004Z"
    }
   },
   "outputs": [],
   "source": [
    "tc = titanic.corr()\n",
    "tc\n"
   ]
  },
  {
   "cell_type": "code",
   "execution_count": null,
   "metadata": {
    "ExecuteTime": {
     "end_time": "2019-03-24T20:00:30.306500Z",
     "start_time": "2019-03-24T20:00:30.166909Z"
    }
   },
   "outputs": [],
   "source": [
    "sns.heatmap(tc,cmap='coolwarm')\n",
    "plt.title('titanic.corr()')"
   ]
  },
  {
   "cell_type": "code",
   "execution_count": null,
   "metadata": {},
   "outputs": [],
   "source": []
  },
  {
   "cell_type": "code",
   "execution_count": null,
   "metadata": {
    "ExecuteTime": {
     "end_time": "2019-03-24T20:01:11.783640Z",
     "start_time": "2019-03-24T20:01:11.539296Z"
    }
   },
   "outputs": [],
   "source": [
    "# CODE HERE\n",
    "# REPLICATE EXERCISE PLOT IMAGE BELOW\n",
    "# BE CAREFUL NOT TO OVERWRITE CELL BELOW\n",
    "# THAT WOULD REMOVE THE EXERCISE PLOT IMAGE!\n",
    "g = sns.FacetGrid(data=titanic,col='sex')\n",
    "g.map(plt.hist,'age')"
   ]
  },
  {
   "cell_type": "code",
   "execution_count": null,
   "metadata": {},
   "outputs": [],
   "source": []
  },
  {
   "cell_type": "markdown",
   "metadata": {},
   "source": [
    "# Great Job!\n",
    "\n",
    "### That is it for now! We'll see a lot more of seaborn practice problems in the machine learning section!"
   ]
  }
 ],
 "metadata": {
  "kernelspec": {
   "display_name": "Python 3",
   "language": "python",
   "name": "python3"
  },
  "language_info": {
   "codemirror_mode": {
    "name": "ipython",
    "version": 3
   },
   "file_extension": ".py",
   "mimetype": "text/x-python",
   "name": "python",
   "nbconvert_exporter": "python",
   "pygments_lexer": "ipython3",
   "version": "3.6.8"
  },
  "toc": {
   "base_numbering": 1,
   "nav_menu": {},
   "number_sections": true,
   "sideBar": true,
   "skip_h1_title": false,
   "title_cell": "Table of Contents",
   "title_sidebar": "Contents",
   "toc_cell": false,
   "toc_position": {},
   "toc_section_display": true,
   "toc_window_display": false
  },
  "varInspector": {
   "cols": {
    "lenName": 16,
    "lenType": 16,
    "lenVar": 40
   },
   "kernels_config": {
    "python": {
     "delete_cmd_postfix": "",
     "delete_cmd_prefix": "del ",
     "library": "var_list.py",
     "varRefreshCmd": "print(var_dic_list())"
    },
    "r": {
     "delete_cmd_postfix": ") ",
     "delete_cmd_prefix": "rm(",
     "library": "var_list.r",
     "varRefreshCmd": "cat(var_dic_list()) "
    }
   },
   "types_to_exclude": [
    "module",
    "function",
    "builtin_function_or_method",
    "instance",
    "_Feature"
   ],
   "window_display": false
  }
 },
 "nbformat": 4,
 "nbformat_minor": 1
}
