{
 "cells": [
  {
   "cell_type": "markdown",
   "metadata": {},
   "source": [
    "___\n",
    "\n",
    "<a href='https://github.com/ai-vithink'> <img src='https://avatars1.githubusercontent.com/u/41588940?s=200&v=4' /></a>\n",
    "___"
   ]
  },
  {
   "cell_type": "markdown",
   "metadata": {},
   "source": [
    "# Categorical Data Plots\n",
    "\n",
    "Now let's discuss using seaborn to plot categorical data! There are a few main plot types for this:\n",
    "\n",
    "* factorplot\n",
    "* boxplot\n",
    "* violinplot\n",
    "* stripplot\n",
    "* swarmplot\n",
    "* barplot\n",
    "* countplot\n",
    "\n",
    "Let's go through examples of each!"
   ]
  },
  {
   "cell_type": "code",
   "execution_count": null,
   "metadata": {
    "ExecuteTime": {
     "end_time": "2019-03-23T21:46:27.376522Z",
     "start_time": "2019-03-23T21:46:26.311350Z"
    }
   },
   "outputs": [],
   "source": [
    "import seaborn as sns\n",
    "import numpy as np\n",
    "import scipy.stats as stats"
   ]
  },
  {
   "cell_type": "code",
   "execution_count": null,
   "metadata": {
    "ExecuteTime": {
     "end_time": "2019-03-23T21:46:27.399785Z",
     "start_time": "2019-03-23T21:46:27.393799Z"
    }
   },
   "outputs": [],
   "source": [
    "from IPython.display import HTML\n",
    "HTML('''<script>\n",
    "code_show_err=false; \n",
    "function code_toggle_err() {\n",
    " if (code_show_err){\n",
    " $('div.output_stderr').hide();\n",
    " } else {\n",
    " $('div.output_stderr').show();\n",
    " }\n",
    " code_show_err = !code_show_err\n",
    "} \n",
    "$( document ).ready(code_toggle_err);\n",
    "</script>\n",
    "To toggle on/off output_stderr, click <a href=\"javascript:code_toggle_err()\">here</a>.''')\n",
    "# To hide warnings, which won't change the desired outcome."
   ]
  },
  {
   "cell_type": "code",
   "execution_count": null,
   "metadata": {
    "ExecuteTime": {
     "end_time": "2019-03-24T05:29:39.496425Z",
     "start_time": "2019-03-24T05:29:39.487450Z"
    }
   },
   "outputs": [],
   "source": [
    "%%HTML\n",
    "<style type=\"text/css\">\n",
    "table.dataframe td, table.dataframe th {\n",
    "    border: 3px  black solid !important;\n",
    "  color: black !important;\n",
    "}\n",
    "# For having gridlines "
   ]
  },
  {
   "cell_type": "code",
   "execution_count": null,
   "metadata": {
    "ExecuteTime": {
     "end_time": "2019-03-23T21:46:28.031505Z",
     "start_time": "2019-03-23T21:46:28.028514Z"
    }
   },
   "outputs": [],
   "source": [
    "import warnings\n",
    "warnings.filterwarnings(\"ignore\")"
   ]
  },
  {
   "cell_type": "code",
   "execution_count": null,
   "metadata": {
    "ExecuteTime": {
     "end_time": "2019-03-23T21:46:28.869133Z",
     "start_time": "2019-03-23T21:46:28.864146Z"
    }
   },
   "outputs": [],
   "source": [
    "%matplotlib inline\n",
    "sns.set_style('darkgrid')"
   ]
  },
  {
   "cell_type": "code",
   "execution_count": null,
   "metadata": {
    "ExecuteTime": {
     "end_time": "2019-03-23T21:46:30.103885Z",
     "start_time": "2019-03-23T21:46:30.043543Z"
    }
   },
   "outputs": [],
   "source": [
    "tips = sns.load_dataset('tips')\n",
    "tips.head()\n",
    "# Here in categorical plots we are mainly trying to see the distribution of a categorical columns\n",
    "# like sex, smoker, day, time etc."
   ]
  },
  {
   "cell_type": "markdown",
   "metadata": {},
   "source": [
    "## barplot and countplot\n",
    "\n",
    "These very similar plots allow you to get aggregate data off a categorical feature in your data. **barplot** is a general plot that allows you to aggregate the categorical data based off some function, by default the mean:"
   ]
  },
  {
   "cell_type": "code",
   "execution_count": null,
   "metadata": {
    "ExecuteTime": {
     "end_time": "2019-03-23T21:46:32.936557Z",
     "start_time": "2019-03-23T21:46:32.738639Z"
    }
   },
   "outputs": [],
   "source": [
    "sns.barplot(x='sex', y='total_bill', data=tips)  # set x-axis to a categorical column, numeric col. for y"
   ]
  },
  {
   "cell_type": "markdown",
   "metadata": {},
   "source": [
    "* Bar plot shows the average or mean of the total_bill for each category of Male/Female.\n",
    "* We can even change the estimator object, if we want to basically change the actual grouping or aggregation. This can be done by adding another argument estimator.\n",
    "* Estimator is an aggregate function to estimate within each categorical bin. By default it is average/mean. \n",
    "* We can also put in our function, if we have our own aggregate function then we can put in those.\n",
    "* If we wanted to figure out the standard deviation per gender, like standard deviation, i.e. more variance on their bills is seen among males or females ?"
   ]
  },
  {
   "cell_type": "code",
   "execution_count": null,
   "metadata": {
    "ExecuteTime": {
     "end_time": "2019-03-23T21:46:35.067019Z",
     "start_time": "2019-03-23T21:46:34.839376Z"
    }
   },
   "outputs": [],
   "source": [
    "sns.barplot(x='sex', y='total_bill', data=tips, estimator=np.std)\n",
    "# Tells standard deviation of total_bill column for each gender."
   ]
  },
  {
   "cell_type": "markdown",
   "metadata": {},
   "source": [
    "### countplot\n",
    "\n",
    "This is essentially the same as barplot except the estimator is explicitly counting the number of occurrences. Which is why we only pass the x value:"
   ]
  },
  {
   "cell_type": "code",
   "execution_count": null,
   "metadata": {
    "ExecuteTime": {
     "end_time": "2019-03-23T21:46:37.632964Z",
     "start_time": "2019-03-23T21:46:37.530551Z"
    }
   },
   "outputs": [],
   "source": [
    "sns.countplot(x='sex',data=tips)\n",
    "# On passing x, y is automatically chosen as y keeps track of number of occurences of each categorical\n",
    "# variable of a categorical column."
   ]
  },
  {
   "cell_type": "markdown",
   "metadata": {},
   "source": [
    "## boxplot and violinplot\n",
    "\n",
    "boxplots and violinplots are used to shown the distribution of categorical data. A box plot (or box-and-whisker plot) shows the distribution of quantitative data in a way that facilitates comparisons between variables or across levels of a categorical variable. The box shows the quartiles of the dataset while the whiskers extend to show the rest of the distribution, except for points that are determined to be “outliers” using a method that is a function of the inter-quartile range."
   ]
  },
  {
   "cell_type": "code",
   "execution_count": null,
   "metadata": {
    "ExecuteTime": {
     "end_time": "2019-03-23T21:46:39.161255Z",
     "start_time": "2019-03-23T21:46:38.965088Z"
    }
   },
   "outputs": [],
   "source": [
    "sns.boxplot(x='day',y='total_bill',data=tips)"
   ]
  },
  {
   "cell_type": "code",
   "execution_count": null,
   "metadata": {
    "ExecuteTime": {
     "end_time": "2019-03-23T21:46:40.062628Z",
     "start_time": "2019-03-23T21:46:39.668498Z"
    }
   },
   "outputs": [],
   "source": [
    "# The plots above have 4 regions, i.e. quarters and the dots are outliers.\n",
    "sns.boxplot(x='day',y='total_bill',data=tips,hue='smoker')\n",
    "#  We can do fancy stuff with seaborn by adding hue parameter, allows us to split up the box plots\n",
    "# by another categorical columns.\n",
    "# On running the code above would show box plots split per day and also split by smoker status ."
   ]
  },
  {
   "cell_type": "markdown",
   "metadata": {
    "ExecuteTime": {
     "end_time": "2019-03-23T20:54:55.777274Z",
     "start_time": "2019-03-23T20:54:55.774282Z"
    }
   },
   "source": [
    "* The above plot say For example Fridays can be interpreted as people tend to have more larger bill,\n",
    "if the person is a non-smoker."
   ]
  },
  {
   "cell_type": "markdown",
   "metadata": {},
   "source": [
    "### violinplot\n",
    "A violin plot plays a similar role as a box and whisker plot. It shows the distribution of quantitative data across several levels of one (or more) categorical variables such that those distributions can be compared. Unlike a box plot, in which all of the plot components correspond to actual datapoints, the violin plot features a kernel density estimation of the underlying distribution."
   ]
  },
  {
   "cell_type": "code",
   "execution_count": null,
   "metadata": {
    "ExecuteTime": {
     "end_time": "2019-03-23T21:46:42.366419Z",
     "start_time": "2019-03-23T21:46:42.164957Z"
    }
   },
   "outputs": [],
   "source": [
    "sns.violinplot(x='day',y='total_bill',data=tips)\n",
    "#  Violinplot would also show distribution of data, across some category, takes same args as boxplot."
   ]
  },
  {
   "cell_type": "markdown",
   "metadata": {},
   "source": [
    "* Violinplot unlike box plot allows us to plot all the components which correspond to the data points.\n",
    "* It essentially shows us the kernel density estimation of the distribution.\n",
    "* Which basically is distribution of points on its side, which reveals more information about data points.\n",
    "* The only disadvantage of a violinplot is that it is harder to interpret when compared with boxplot.\n",
    "* Violin plots can be shown next to each other by passing a categorical column to hue argument."
   ]
  },
  {
   "cell_type": "code",
   "execution_count": null,
   "metadata": {
    "ExecuteTime": {
     "end_time": "2019-03-23T21:46:43.809439Z",
     "start_time": "2019-03-23T21:46:43.470074Z"
    }
   },
   "outputs": [],
   "source": [
    "# To show violin plots next to each other.\n",
    "sns.violinplot(x=\"day\", y=\"total_bill\", data=tips, hue='sex', palette='Set1')"
   ]
  },
  {
   "cell_type": "code",
   "execution_count": null,
   "metadata": {
    "ExecuteTime": {
     "end_time": "2019-03-23T21:46:44.614866Z",
     "start_time": "2019-03-23T21:46:44.365839Z"
    }
   },
   "outputs": [],
   "source": [
    "sns.violinplot(x=\"day\", y=\"total_bill\", data=tips, hue='sex', split=True)"
   ]
  },
  {
   "cell_type": "markdown",
   "metadata": {},
   "source": [
    "* Instead of having 2 violinplots next to each other, we can have one half as one hue and other half as other hue by passing arg. split = True.\n",
    "* Allows us to directly compare the distributions based on another category and see how categories themselves compare to each other on the x-axis.\n",
    "* At the end of the day it boils down to your audience, if you are dealing with data science people who have seen violin plots before then violin plots are a good choice, if you are dealing with CEO, executives, management people then a boxplot may be the correct choice. "
   ]
  },
  {
   "cell_type": "markdown",
   "metadata": {},
   "source": [
    "## stripplot and swarmplot\n",
    "The stripplot will draw a scatterplot where one variable is categorical. A strip plot can be drawn on its own, but it is also a good complement to a box or violin plot in cases where you want to show all observations along with some representation of the underlying distribution.\n",
    "\n",
    "The swarmplot is similar to stripplot(), but the points are adjusted (only along the categorical axis) so that they don’t overlap. This gives a better representation of the distribution of values, although it does not scale as well to large numbers of observations (both in terms of the ability to show all the points and in terms of the computation needed to arrange them)."
   ]
  },
  {
   "cell_type": "code",
   "execution_count": null,
   "metadata": {
    "ExecuteTime": {
     "end_time": "2019-03-23T21:46:46.860966Z",
     "start_time": "2019-03-23T21:46:46.732864Z"
    }
   },
   "outputs": [],
   "source": [
    "sns.stripplot(x='day',y='total_bill',data=tips) # x = categorical , y = numerical\n",
    "\n"
   ]
  },
  {
   "cell_type": "markdown",
   "metadata": {},
   "source": [
    "* Just a scatter plot based on category day. \n",
    "* Issue with stripplot() is that we can't tell how many points are overlapping at some places.\n",
    "* To overcome that problem add the argument jitter=True. Jitter adds some random noise to separate the stack points. Which essentially allows us to see density a little better."
   ]
  },
  {
   "cell_type": "code",
   "execution_count": null,
   "metadata": {
    "ExecuteTime": {
     "end_time": "2019-03-23T21:46:48.027017Z",
     "start_time": "2019-03-23T21:46:47.914320Z"
    }
   },
   "outputs": [],
   "source": [
    "sns.stripplot(x='day',y='total_bill',data=tips,jitter=True)"
   ]
  },
  {
   "cell_type": "code",
   "execution_count": null,
   "metadata": {
    "ExecuteTime": {
     "end_time": "2019-03-23T21:46:48.783488Z",
     "start_time": "2019-03-23T21:46:48.605187Z"
    }
   },
   "outputs": [],
   "source": [
    "# Here also we can add hue based on another categorical column and split to split Categorical values of hue.\n",
    "sns.stripplot(x='day',y='total_bill',data=tips,jitter=True,hue='sex',split=True)\n"
   ]
  },
  {
   "cell_type": "markdown",
   "metadata": {},
   "source": [
    "* Again, remember this is a bit hard to interprete when compared to a box or violin plot, so know your audience."
   ]
  },
  {
   "cell_type": "code",
   "execution_count": null,
   "metadata": {
    "ExecuteTime": {
     "end_time": "2019-03-23T21:46:50.234871Z",
     "start_time": "2019-03-23T21:46:49.980551Z"
    }
   },
   "outputs": [],
   "source": [
    "# Combine the idea of stripplot and violinplot and what you will have is a swarmplot.\n",
    "sns.swarmplot(x='day',y='total_bill',data = tips)"
   ]
  },
  {
   "cell_type": "code",
   "execution_count": null,
   "metadata": {
    "ExecuteTime": {
     "end_time": "2019-03-23T21:46:53.105463Z",
     "start_time": "2019-03-23T21:46:52.847868Z"
    }
   },
   "outputs": [],
   "source": [
    "sns.swarmplot(x='day',y='total_bill',data = tips,hue='sex',split = True)"
   ]
  },
  {
   "cell_type": "markdown",
   "metadata": {},
   "source": [
    "* Swarmplot shows the same distribution but also it shows all the points themselves.\n",
    "* Drawback of using a swarmplot is that these do not scale nicely to very large numbers, in terms of abilities to show all the points, and takes a lot of computation to arrange in such a manner that these do not overlap. \n",
    "* Hence, do not use swarmplots for very large datasets.\n",
    "* Another thing is, you can combine swarm and violin in one cell. Shows kde and swarmplot together.\n",
    "* More useful for exploratory data analysis instead of data visualisation.\n",
    "* Box, count and bar plots for executive meeting. :)\n",
    "* Violin, strip, swarm plots more suited for data science people."
   ]
  },
  {
   "cell_type": "code",
   "execution_count": null,
   "metadata": {
    "ExecuteTime": {
     "end_time": "2019-03-23T21:46:54.906170Z",
     "start_time": "2019-03-23T21:46:54.598686Z"
    }
   },
   "outputs": [],
   "source": [
    "sns.violinplot(x='day',y='total_bill',data = tips)\n",
    "sns.swarmplot(x='day',y='total_bill',data = tips,color='black')"
   ]
  },
  {
   "cell_type": "markdown",
   "metadata": {},
   "source": [
    "## factorplot\n",
    "\n",
    "factorplot is the most general form of a categorical plot. It can take in a **kind** parameter to adjust the plot type:"
   ]
  },
  {
   "cell_type": "code",
   "execution_count": null,
   "metadata": {
    "ExecuteTime": {
     "end_time": "2019-03-23T21:46:55.685388Z",
     "start_time": "2019-03-23T21:46:55.388414Z"
    }
   },
   "outputs": [],
   "source": [
    "sns.factorplot(x='day',y='total_bill',data = tips,kind='bar')\n",
    "#  Takes x,y,data but also kind as well\n",
    "# So, the most general method is to call the factorplot and specify the kind of plot you want."
   ]
  },
  {
   "cell_type": "markdown",
   "metadata": {},
   "source": [
    "# Well Done!"
   ]
  }
 ],
 "metadata": {
  "kernelspec": {
   "display_name": "Python 3",
   "language": "python",
   "name": "python3"
  },
  "language_info": {
   "codemirror_mode": {
    "name": "ipython",
    "version": 3
   },
   "file_extension": ".py",
   "mimetype": "text/x-python",
   "name": "python",
   "nbconvert_exporter": "python",
   "pygments_lexer": "ipython3",
   "version": "3.6.8"
  },
  "toc": {
   "base_numbering": 1,
   "nav_menu": {},
   "number_sections": true,
   "sideBar": true,
   "skip_h1_title": false,
   "title_cell": "Table of Contents",
   "title_sidebar": "Contents",
   "toc_cell": false,
   "toc_position": {},
   "toc_section_display": true,
   "toc_window_display": false
  },
  "varInspector": {
   "cols": {
    "lenName": 16,
    "lenType": 16,
    "lenVar": 40
   },
   "kernels_config": {
    "python": {
     "delete_cmd_postfix": "",
     "delete_cmd_prefix": "del ",
     "library": "var_list.py",
     "varRefreshCmd": "print(var_dic_list())"
    },
    "r": {
     "delete_cmd_postfix": ") ",
     "delete_cmd_prefix": "rm(",
     "library": "var_list.r",
     "varRefreshCmd": "cat(var_dic_list()) "
    }
   },
   "types_to_exclude": [
    "module",
    "function",
    "builtin_function_or_method",
    "instance",
    "_Feature"
   ],
   "window_display": false
  }
 },
 "nbformat": 4,
 "nbformat_minor": 2
}
