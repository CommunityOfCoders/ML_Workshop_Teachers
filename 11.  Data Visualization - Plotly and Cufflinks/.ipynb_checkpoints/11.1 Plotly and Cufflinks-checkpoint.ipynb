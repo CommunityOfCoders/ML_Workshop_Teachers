{
 "cells": [
  {
   "cell_type": "markdown",
   "metadata": {},
   "source": [
    "___\n",
    "\n",
    "<a href='https://github.com/ai-vithink'> <img src='https://avatars1.githubusercontent.com/u/41588940?s=200&v=4' /></a>\n",
    "___"
   ]
  },
  {
   "cell_type": "markdown",
   "metadata": {},
   "source": [
    "# Plotly and Cufflinks"
   ]
  },
  {
   "cell_type": "markdown",
   "metadata": {},
   "source": [
    "Plotly is a library that allows you to create interactive plots that you can use in dashboards or websites (you can save them as html files or static images).\n",
    "\n",
    "## Installation\n",
    "\n",
    "In order for this all to work, you'll need to install plotly and cufflinks to call plots directly off of a pandas dataframe. These libraries are not currently available through **conda** but are available through **pip**. Install the libraries at your command line/terminal using:\n",
    "\n",
    "    pip install plotly\n",
    "    pip install cufflinks\n",
    "\n",
    "**NOTE: Make sure you only have one installation of Python on your computer when you do this, otherwise the installation may not work.**\n",
    "\n",
    "## Imports and Set-up"
   ]
  },
  {
   "cell_type": "code",
   "execution_count": null,
   "metadata": {
    "ExecuteTime": {
     "end_time": "2019-05-06T16:55:23.339912Z",
     "start_time": "2019-05-06T16:55:22.887889Z"
    }
   },
   "outputs": [],
   "source": [
    "import pandas as pd\n",
    "import numpy as np\n",
    "%matplotlib inline"
   ]
  },
  {
   "cell_type": "code",
   "execution_count": null,
   "metadata": {
    "ExecuteTime": {
     "end_time": "2019-05-06T16:55:23.541337Z",
     "start_time": "2019-05-06T16:55:23.535353Z"
    }
   },
   "outputs": [],
   "source": [
    "from IPython.display import HTML\n",
    "HTML('''<script>\n",
    "code_show_err=false; \n",
    "function code_toggle_err() {\n",
    " if (code_show_err){\n",
    " $('div.output_stderr').hide();\n",
    " } else {\n",
    " $('div.output_stderr').show();\n",
    " }\n",
    " code_show_err = !code_show_err\n",
    "} \n",
    "$( document ).ready(code_toggle_err);\n",
    "</script>\n",
    "To toggle on/off output_stderr, click <a href=\"javascript:code_toggle_err()\">here</a>.''')\n",
    "# To hide warnings, which won't change the desired outcome."
   ]
  },
  {
   "cell_type": "code",
   "execution_count": null,
   "metadata": {
    "ExecuteTime": {
     "end_time": "2019-05-06T16:55:24.100838Z",
     "start_time": "2019-05-06T16:55:24.095888Z"
    }
   },
   "outputs": [],
   "source": [
    "%%HTML\n",
    "<style type=\"text/css\">\n",
    "table.dataframe td, table.dataframe th {\n",
    "    border: 3px  black solid !important;\n",
    "  color: black !important;\n",
    "}\n",
    "# For having gridlines "
   ]
  },
  {
   "cell_type": "code",
   "execution_count": null,
   "metadata": {
    "ExecuteTime": {
     "end_time": "2019-05-06T16:55:24.915336Z",
     "start_time": "2019-05-06T16:55:24.912344Z"
    }
   },
   "outputs": [],
   "source": [
    "import warnings\n",
    "warnings.filterwarnings(\"ignore\")\n"
   ]
  },
  {
   "cell_type": "code",
   "execution_count": null,
   "metadata": {
    "ExecuteTime": {
     "end_time": "2019-05-06T16:55:26.383812Z",
     "start_time": "2019-05-06T16:55:25.430748Z"
    }
   },
   "outputs": [],
   "source": [
    "from plotly import __version__\n",
    "\n",
    "\n",
    "print(__version__) # requires version >= 1.9.0\n",
    "from plotly.offline import download_plotlyjs, init_notebook_mode, plot, iplot"
   ]
  },
  {
   "cell_type": "code",
   "execution_count": null,
   "metadata": {
    "ExecuteTime": {
     "end_time": "2019-05-06T16:55:26.879487Z",
     "start_time": "2019-05-06T16:55:26.399769Z"
    }
   },
   "outputs": [],
   "source": [
    "import cufflinks as cf"
   ]
  },
  {
   "cell_type": "code",
   "execution_count": null,
   "metadata": {
    "ExecuteTime": {
     "end_time": "2019-05-06T16:55:26.897441Z",
     "start_time": "2019-05-06T16:55:26.893451Z"
    }
   },
   "outputs": [],
   "source": [
    "# For Notebooks\n",
    "init_notebook_mode(connected=True)\n",
    "# Connects JavaScript to the notebook as Plotly essentially connects Pandas and Python to an interactive JS Library."
   ]
  },
  {
   "cell_type": "code",
   "execution_count": null,
   "metadata": {
    "ExecuteTime": {
     "end_time": "2019-05-06T16:55:27.624699Z",
     "start_time": "2019-05-06T16:55:27.553861Z"
    }
   },
   "outputs": [],
   "source": [
    "cf.go_offline() # Used as a method to allow cufflinks to run offline."
   ]
  },
  {
   "cell_type": "markdown",
   "metadata": {
    "ExecuteTime": {
     "end_time": "2019-05-05T07:38:17.035269Z",
     "start_time": "2019-05-05T07:38:17.032277Z"
    }
   },
   "source": [
    "### Fake Data"
   ]
  },
  {
   "cell_type": "code",
   "execution_count": null,
   "metadata": {
    "ExecuteTime": {
     "end_time": "2019-05-06T16:55:29.230694Z",
     "start_time": "2019-05-06T16:55:29.226705Z"
    }
   },
   "outputs": [],
   "source": [
    "df = pd.DataFrame(np.random.randn(100,4),columns='A B C D'.split()) \n",
    "# 100 rows and 4 columns, and columns are A B C D"
   ]
  },
  {
   "cell_type": "code",
   "execution_count": null,
   "metadata": {
    "ExecuteTime": {
     "end_time": "2019-05-06T16:55:29.728902Z",
     "start_time": "2019-05-06T16:55:29.719963Z"
    }
   },
   "outputs": [],
   "source": [
    "df.head()"
   ]
  },
  {
   "cell_type": "code",
   "execution_count": null,
   "metadata": {
    "ExecuteTime": {
     "end_time": "2019-05-06T16:55:30.190742Z",
     "start_time": "2019-05-06T16:55:30.186791Z"
    }
   },
   "outputs": [],
   "source": [
    "df2 = pd.DataFrame({'Category':['A','B','C'],'Values':[32,43,50]})"
   ]
  },
  {
   "cell_type": "code",
   "execution_count": null,
   "metadata": {
    "ExecuteTime": {
     "end_time": "2019-05-06T16:55:30.666602Z",
     "start_time": "2019-05-06T16:55:30.659621Z"
    },
    "scrolled": true
   },
   "outputs": [],
   "source": [
    "df2"
   ]
  },
  {
   "cell_type": "markdown",
   "metadata": {},
   "source": [
    "## Using Cufflinks and iplot()\n",
    "\n",
    "* scatter\n",
    "* bar\n",
    "* box\n",
    "* spread\n",
    "* ratio\n",
    "* heatmap\n",
    "* surface\n",
    "* histogram\n",
    "* bubble"
   ]
  },
  {
   "cell_type": "code",
   "execution_count": null,
   "metadata": {
    "ExecuteTime": {
     "end_time": "2019-05-06T16:55:31.745440Z",
     "start_time": "2019-05-06T16:55:31.598832Z"
    }
   },
   "outputs": [],
   "source": [
    "# How to use cufflinks and iplot\n",
    "df.plot()"
   ]
  },
  {
   "cell_type": "code",
   "execution_count": null,
   "metadata": {
    "ExecuteTime": {
     "end_time": "2019-05-06T16:55:33.230709Z",
     "start_time": "2019-05-06T16:55:32.102407Z"
    }
   },
   "outputs": [],
   "source": [
    "# Now to see the improved version we use iplot and see what do we get ...\n",
    "df.iplot()\n",
    "# Notice how readability and ease of understanding of complex data increases. A plotly interactive image is generated.\n",
    "# Drag in an area, make a square in area you want to zoom in to and double click to zoom out.\n",
    "# You can hover, pan, download as static png image, click on column A, B or whichever you want to show/hide them and much more."
   ]
  },
  {
   "cell_type": "markdown",
   "metadata": {
    "ExecuteTime": {
     "end_time": "2019-05-05T07:50:03.674601Z",
     "start_time": "2019-05-05T07:50:03.671609Z"
    }
   },
   "source": [
    "* Scatter, bar, heat map, box, ratio are the kinds of plots that we can do using plotly.\n",
    "## Scatter Plot"
   ]
  },
  {
   "cell_type": "code",
   "execution_count": null,
   "metadata": {
    "ExecuteTime": {
     "end_time": "2019-05-06T16:55:33.438154Z",
     "start_time": "2019-05-06T16:55:33.363389Z"
    }
   },
   "outputs": [],
   "source": [
    "df.iplot(kind='scatter',x='A',y = 'B')\n",
    "# To switch the kind of plot we specify kind = 'what we want'. Gotta specify x and y axes for scatter plot"
   ]
  },
  {
   "cell_type": "code",
   "execution_count": null,
   "metadata": {
    "ExecuteTime": {
     "end_time": "2019-05-06T16:55:34.375952Z",
     "start_time": "2019-05-06T16:55:34.261205Z"
    }
   },
   "outputs": [],
   "source": [
    "# Now the funny thing you see above which makes no sense is when plotly by default tries to make the lines connect \n",
    "# with each other. We have to specify mode = 'markers' to see markers\n",
    "df.iplot(kind='scatter',x='A',y = 'B',mode='markers',size=6)\n",
    "# Here also we can zoom and do all kinds of things with this interactive plot.\n",
    "# For scatter plot, pass in x and y with column names, specify kind = scatter and then pass in mode = markers and size/"
   ]
  },
  {
   "cell_type": "markdown",
   "metadata": {},
   "source": [
    "## Bar Plot"
   ]
  },
  {
   "cell_type": "code",
   "execution_count": null,
   "metadata": {
    "ExecuteTime": {
     "end_time": "2019-05-06T16:55:35.654321Z",
     "start_time": "2019-05-06T16:55:35.425839Z"
    }
   },
   "outputs": [],
   "source": [
    "df2.iplot(kind='bar',x= 'Category',y='Values') # Specify x"
   ]
  },
  {
   "cell_type": "markdown",
   "metadata": {},
   "source": [
    "* Data will not be always conveniently placed in a categorical values column, what we can do is group by or an aggregate function on our data to get it into some sort of form where it would make sense to use bar plot via iplot"
   ]
  },
  {
   "cell_type": "code",
   "execution_count": null,
   "metadata": {
    "ExecuteTime": {
     "end_time": "2019-05-06T16:55:36.508163Z",
     "start_time": "2019-05-06T16:55:36.499187Z"
    }
   },
   "outputs": [],
   "source": [
    "df.head()\n",
    "# Can't call bar plot off of this because then we will get a bunch of meaningless bars for every single data point."
   ]
  },
  {
   "cell_type": "code",
   "execution_count": null,
   "metadata": {
    "ExecuteTime": {
     "end_time": "2019-05-06T16:55:37.084278Z",
     "start_time": "2019-05-06T16:55:36.989494Z"
    }
   },
   "outputs": [],
   "source": [
    "df.iplot(kind='bar')"
   ]
  },
  {
   "cell_type": "code",
   "execution_count": null,
   "metadata": {
    "ExecuteTime": {
     "end_time": "2019-05-06T16:55:37.544012Z",
     "start_time": "2019-05-06T16:55:37.467217Z"
    }
   },
   "outputs": [],
   "source": [
    "# As we get hard to interpret bar plot we understand that we need to do some sort of aggregate function on top of bar plot.\n",
    "# Say an aggregate function to count the number of instances for each column for that we do as follows:\n",
    "df.count().iplot(kind='bar')\n",
    "# Bar plot for each instance, which is in this case 100. As these are evenly distributed."
   ]
  },
  {
   "cell_type": "code",
   "execution_count": null,
   "metadata": {
    "ExecuteTime": {
     "end_time": "2019-05-06T16:55:38.128109Z",
     "start_time": "2019-05-06T16:55:38.007491Z"
    }
   },
   "outputs": [],
   "source": [
    "# We can do other things like take the sum : Which would give us sum of all values in a column\n",
    "df.sum().iplot(kind='bar')"
   ]
  },
  {
   "cell_type": "code",
   "execution_count": null,
   "metadata": {
    "ExecuteTime": {
     "end_time": "2019-05-06T16:55:38.457227Z",
     "start_time": "2019-05-06T16:55:38.454235Z"
    }
   },
   "outputs": [],
   "source": [
    "# Bar plot with iplot becomes really powerful when we call some sort of aggregate function or a group by function on dataframe."
   ]
  },
  {
   "cell_type": "markdown",
   "metadata": {},
   "source": [
    "## Box Plot"
   ]
  },
  {
   "cell_type": "code",
   "execution_count": null,
   "metadata": {
    "ExecuteTime": {
     "end_time": "2019-05-06T16:55:39.137119Z",
     "start_time": "2019-05-06T16:55:38.984528Z"
    }
   },
   "outputs": [],
   "source": [
    "# Automatically makes box plot for each of the column, columns can be turned on or off by passing them next to df or using \n",
    "# interactive selection provided by plotly.\n",
    "df.iplot(kind='box')"
   ]
  },
  {
   "cell_type": "markdown",
   "metadata": {},
   "source": [
    "## 3d Surface"
   ]
  },
  {
   "cell_type": "code",
   "execution_count": null,
   "metadata": {
    "ExecuteTime": {
     "end_time": "2019-05-06T16:55:39.143108Z",
     "start_time": "2019-05-06T16:55:39.138116Z"
    }
   },
   "outputs": [],
   "source": [
    "# Making a new df for 3d surface\n",
    "df3 = pd.DataFrame({'x':[1,2,3,4,5],'y':[10,20,30,20,10],'z':[500,400,300,200,100]})"
   ]
  },
  {
   "cell_type": "code",
   "execution_count": null,
   "metadata": {
    "ExecuteTime": {
     "end_time": "2019-05-06T16:55:39.199005Z",
     "start_time": "2019-05-06T16:55:39.191973Z"
    }
   },
   "outputs": [],
   "source": [
    "df3\n",
    "# A 3 dimension of values which can be plotted using surface plot of 3 variables."
   ]
  },
  {
   "cell_type": "code",
   "execution_count": null,
   "metadata": {
    "ExecuteTime": {
     "end_time": "2019-05-06T16:55:39.406436Z",
     "start_time": "2019-05-06T16:55:39.199950Z"
    }
   },
   "outputs": [],
   "source": [
    "df3.iplot(kind='surface',colorscale='rdylbu')"
   ]
  },
  {
   "cell_type": "markdown",
   "metadata": {},
   "source": [
    "## Histogram"
   ]
  },
  {
   "cell_type": "code",
   "execution_count": null,
   "metadata": {
    "ExecuteTime": {
     "end_time": "2019-05-06T16:55:41.417007Z",
     "start_time": "2019-05-06T16:55:41.199540Z"
    }
   },
   "outputs": [],
   "source": [
    "df['A'].iplot(kind='hist',xTitle='X axis',yTitle = 'Y axis',title='Histogram',bins=50,theme='henanigans')"
   ]
  },
  {
   "cell_type": "code",
   "execution_count": null,
   "metadata": {
    "ExecuteTime": {
     "end_time": "2019-05-06T16:55:41.709611Z",
     "start_time": "2019-05-06T16:55:41.705583Z"
    }
   },
   "outputs": [],
   "source": [
    "# To see all the themes you can apply to your visualisations.\n",
    "cf.getThemes()"
   ]
  },
  {
   "cell_type": "code",
   "execution_count": null,
   "metadata": {
    "ExecuteTime": {
     "end_time": "2019-05-06T16:55:41.882147Z",
     "start_time": "2019-05-06T16:55:41.734506Z"
    }
   },
   "outputs": [],
   "source": [
    "# On passing entire dataframe we get an overlapping histogram of all the columns.Turn on/off as you please.\n",
    "df.iplot(kind='hist',xTitle='X axis',yTitle = 'Y axis',title='Histogram',bins=50,theme='henanigans')"
   ]
  },
  {
   "cell_type": "markdown",
   "metadata": {},
   "source": [
    "## Spread"
   ]
  },
  {
   "cell_type": "code",
   "execution_count": null,
   "metadata": {
    "ExecuteTime": {
     "end_time": "2019-05-06T16:55:41.892085Z",
     "start_time": "2019-05-06T16:55:41.884107Z"
    }
   },
   "outputs": [],
   "source": [
    "# These types of visualisations are used a lot for stock data. To compare two stocks. Here we create 2 random values.\n",
    "df[['A','B']].head()"
   ]
  },
  {
   "cell_type": "code",
   "execution_count": null,
   "metadata": {
    "ExecuteTime": {
     "end_time": "2019-05-06T16:55:42.053692Z",
     "start_time": "2019-05-06T16:55:41.941951Z"
    }
   },
   "outputs": [],
   "source": [
    "df[['A','B']].iplot(kind='spread')\n",
    "# The plot you see above is the line plot which is used to compare the two values against each other.\n",
    "# The plot you see below is the spread plot which is used to show the spread of columns A and B against each other."
   ]
  },
  {
   "cell_type": "markdown",
   "metadata": {},
   "source": [
    "## Bubble Plot"
   ]
  },
  {
   "cell_type": "code",
   "execution_count": null,
   "metadata": {
    "ExecuteTime": {
     "end_time": "2019-05-06T16:55:43.218714Z",
     "start_time": "2019-05-06T16:55:43.142879Z"
    }
   },
   "outputs": [],
   "source": [
    "# Very similar to scatter plot. Except it changes the size of points based off of some another variable.\n",
    "df.iplot(kind='bubble',x='A',y='B',size='C')\n",
    "# World GDP, comparison of population,happiness factor etc. say comparison of population of country A and B wrt\n",
    "# population of China."
   ]
  },
  {
   "cell_type": "markdown",
   "metadata": {},
   "source": [
    "## Scatter Matrix Plot"
   ]
  },
  {
   "cell_type": "code",
   "execution_count": null,
   "metadata": {
    "ExecuteTime": {
     "end_time": "2019-05-06T16:55:46.122556Z",
     "start_time": "2019-05-06T16:55:45.030454Z"
    }
   },
   "outputs": [],
   "source": [
    "# Similar to seaborn's pairplot : It just creates a scatter matrix of all columns it can. Make sure all columns are numerical.\n",
    "df.scatter_matrix(theme='solar')\n",
    "# If you have a lot of points then scatter matrix can take some time to load, and you may end up crashing your python kernel."
   ]
  },
  {
   "cell_type": "markdown",
   "metadata": {},
   "source": [
    "# For more info and details about documentation :\n",
    "\n",
    "* [Cufflinks Github Page]([https://github.com/santosjorge/cufflinks](https://github.com/santosjorge/cufflinks))\n",
    "    * Check out Chart Gallery, Tutorials, Offline, Pandas Like and Plotly notebooks to find info on Area Plots, Scatter Plots and more.\n",
    "* There is ability to do technical analysis in CuffLinks which is still under beta. Check repo for more info. Don't get too intimidated by technical analysis if you don't want to get into financial analysis. Gives info about averages, correlation between plots and more."
   ]
  },
  {
   "cell_type": "markdown",
   "metadata": {},
   "source": [
    "**GREAT JOB :)**"
   ]
  }
 ],
 "metadata": {
  "kernelspec": {
   "display_name": "Python 3",
   "language": "python",
   "name": "python3"
  },
  "language_info": {
   "codemirror_mode": {
    "name": "ipython",
    "version": 3
   },
   "file_extension": ".py",
   "mimetype": "text/x-python",
   "name": "python",
   "nbconvert_exporter": "python",
   "pygments_lexer": "ipython3",
   "version": "3.6.8"
  },
  "toc": {
   "base_numbering": 1,
   "nav_menu": {},
   "number_sections": true,
   "sideBar": true,
   "skip_h1_title": false,
   "title_cell": "Table of Contents",
   "title_sidebar": "Contents",
   "toc_cell": false,
   "toc_position": {},
   "toc_section_display": true,
   "toc_window_display": false
  },
  "varInspector": {
   "cols": {
    "lenName": 16,
    "lenType": 16,
    "lenVar": 40
   },
   "kernels_config": {
    "python": {
     "delete_cmd_postfix": "",
     "delete_cmd_prefix": "del ",
     "library": "var_list.py",
     "varRefreshCmd": "print(var_dic_list())"
    },
    "r": {
     "delete_cmd_postfix": ") ",
     "delete_cmd_prefix": "rm(",
     "library": "var_list.r",
     "varRefreshCmd": "cat(var_dic_list()) "
    }
   },
   "types_to_exclude": [
    "module",
    "function",
    "builtin_function_or_method",
    "instance",
    "_Feature"
   ],
   "window_display": false
  }
 },
 "nbformat": 4,
 "nbformat_minor": 2
}
