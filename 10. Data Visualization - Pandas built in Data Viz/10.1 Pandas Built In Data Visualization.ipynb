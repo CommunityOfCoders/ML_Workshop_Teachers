{
 "cells": [
  {
   "cell_type": "markdown",
   "metadata": {},
   "source": [
    "___\n",
    "\n",
    "<a href='https://github.com/ai-vithink'> <img src='https://avatars1.githubusercontent.com/u/41588940?s=200&v=4' /></a>\n",
    "___"
   ]
  },
  {
   "cell_type": "markdown",
   "metadata": {},
   "source": [
    "# Pandas Built-in Data Visualization\n",
    "\n",
    "In this lecture we will learn about pandas built-in capabilities for data visualization! It's built-off of matplotlib, but it baked into pandas for easier usage!  \n",
    "\n",
    "Let's take a look!"
   ]
  },
  {
   "cell_type": "markdown",
   "metadata": {},
   "source": [
    "## Imports"
   ]
  },
  {
   "cell_type": "code",
   "execution_count": null,
   "metadata": {
    "ExecuteTime": {
     "end_time": "2019-03-25T19:46:25.576883Z",
     "start_time": "2019-03-25T19:46:24.932559Z"
    }
   },
   "outputs": [],
   "source": [
    "import numpy as np\n",
    "import pandas as pd\n",
    "import seaborn as sns\n",
    "%matplotlib inline"
   ]
  },
  {
   "cell_type": "code",
   "execution_count": null,
   "metadata": {
    "ExecuteTime": {
     "end_time": "2019-03-25T19:46:25.583816Z",
     "start_time": "2019-03-25T19:46:25.578866Z"
    }
   },
   "outputs": [],
   "source": [
    "from IPython.display import HTML\n",
    "HTML('''<script>\n",
    "code_show_err=false; \n",
    "function code_toggle_err() {\n",
    " if (code_show_err){\n",
    " $('div.output_stderr').hide();\n",
    " } else {\n",
    " $('div.output_stderr').show();\n",
    " }\n",
    " code_show_err = !code_show_err\n",
    "} \n",
    "$( document ).ready(code_toggle_err);\n",
    "</script>\n",
    "To toggle on/off output_stderr, click <a href=\"javascript:code_toggle_err()\">here</a>.''')\n",
    "# To hide warnings, which won't change the desired outcome."
   ]
  },
  {
   "cell_type": "code",
   "execution_count": null,
   "metadata": {
    "ExecuteTime": {
     "end_time": "2019-03-25T19:46:25.589825Z",
     "start_time": "2019-03-25T19:46:25.584814Z"
    }
   },
   "outputs": [],
   "source": [
    "%%HTML\n",
    "<style type=\"text/css\">\n",
    "table.dataframe td, table.dataframe th {\n",
    "    border: 3px  black solid !important;\n",
    "  color: black !important;\n",
    "}\n",
    "# For having gridlines "
   ]
  },
  {
   "cell_type": "code",
   "execution_count": null,
   "metadata": {
    "ExecuteTime": {
     "end_time": "2019-03-25T19:46:25.595784Z",
     "start_time": "2019-03-25T19:46:25.592792Z"
    }
   },
   "outputs": [],
   "source": [
    "import warnings\n",
    "warnings.filterwarnings(\"ignore\")\n"
   ]
  },
  {
   "cell_type": "code",
   "execution_count": null,
   "metadata": {
    "ExecuteTime": {
     "end_time": "2019-03-25T19:46:25.633715Z",
     "start_time": "2019-03-25T19:46:25.597779Z"
    }
   },
   "outputs": [],
   "source": [
    "df1 = pd.read_csv('df1',index_col = 0)"
   ]
  },
  {
   "cell_type": "code",
   "execution_count": null,
   "metadata": {
    "ExecuteTime": {
     "end_time": "2019-03-25T19:46:25.643692Z",
     "start_time": "2019-03-25T19:46:25.634715Z"
    }
   },
   "outputs": [],
   "source": [
    "df1.head()\n",
    "# Index is a time series"
   ]
  },
  {
   "cell_type": "code",
   "execution_count": null,
   "metadata": {
    "ExecuteTime": {
     "end_time": "2019-03-25T19:46:25.650665Z",
     "start_time": "2019-03-25T19:46:25.644689Z"
    }
   },
   "outputs": [],
   "source": [
    "df2 = pd.read_csv('df2') # Non time series"
   ]
  },
  {
   "cell_type": "code",
   "execution_count": null,
   "metadata": {
    "ExecuteTime": {
     "end_time": "2019-03-25T19:46:25.659642Z",
     "start_time": "2019-03-25T19:46:25.651664Z"
    }
   },
   "outputs": [],
   "source": [
    "df2.head() # Random data with sequential index"
   ]
  },
  {
   "cell_type": "code",
   "execution_count": null,
   "metadata": {
    "ExecuteTime": {
     "end_time": "2019-03-25T19:46:25.787327Z",
     "start_time": "2019-03-25T19:46:25.660642Z"
    }
   },
   "outputs": [],
   "source": [
    "# Say we wanted to have a histrogram for all the values of A column of df1\n",
    "# Pandas can do that in the following manner :\n",
    "df1['A'].hist() # DataFrame_name['Column_Name'].hist()\n",
    "# Calls matplotlib under the hood, so matplotlib arguments are applicable."
   ]
  },
  {
   "cell_type": "code",
   "execution_count": null,
   "metadata": {
    "ExecuteTime": {
     "end_time": "2019-03-25T19:46:25.935874Z",
     "start_time": "2019-03-25T19:46:25.788326Z"
    }
   },
   "outputs": [],
   "source": [
    "df1['A'].hist(bins=30)"
   ]
  },
  {
   "cell_type": "code",
   "execution_count": null,
   "metadata": {
    "ExecuteTime": {
     "end_time": "2019-03-25T19:46:25.939864Z",
     "start_time": "2019-03-25T19:46:25.936872Z"
    }
   },
   "outputs": [],
   "source": [
    "# The styles don't look that stylish so we import seaborn as sns and then try plotting again and see how our plot looks\n"
   ]
  },
  {
   "cell_type": "code",
   "execution_count": null,
   "metadata": {
    "ExecuteTime": {
     "end_time": "2019-03-25T19:46:26.064530Z",
     "start_time": "2019-03-25T19:46:25.940861Z"
    }
   },
   "outputs": [],
   "source": [
    "df1['A'].hist()"
   ]
  },
  {
   "cell_type": "code",
   "execution_count": null,
   "metadata": {
    "ExecuteTime": {
     "end_time": "2019-03-25T19:46:26.199207Z",
     "start_time": "2019-03-25T19:46:26.065562Z"
    }
   },
   "outputs": [],
   "source": [
    "df1['A'].plot(kind='hist',bins = 20) # Calling off of DataFrame"
   ]
  },
  {
   "cell_type": "code",
   "execution_count": null,
   "metadata": {
    "ExecuteTime": {
     "end_time": "2019-03-25T19:46:27.344147Z",
     "start_time": "2019-03-25T19:46:27.227456Z"
    },
    "scrolled": true
   },
   "outputs": [],
   "source": [
    "df1['A'].plot.hist()"
   ]
  },
  {
   "cell_type": "markdown",
   "metadata": {},
   "source": [
    "# Plot Types\n",
    "\n",
    "There are several plot types built-in to pandas, most of them statistical plots by nature:\n",
    "\n",
    "* df.plot.area     \n",
    "* df.plot.barh     \n",
    "* df.plot.density  \n",
    "* df.plot.hist     \n",
    "* df.plot.line     \n",
    "* df.plot.scatter\n",
    "* df.plot.bar      \n",
    "* df.plot.box      \n",
    "* df.plot.hexbin   \n",
    "* df.plot.kde      \n",
    "* df.plot.pie\n",
    "\n",
    "You can also just call df.plot(kind='hist') or replace that kind argument with any of the key terms shown in the list above (e.g. 'box','barh', etc..)\n",
    "___"
   ]
  },
  {
   "cell_type": "markdown",
   "metadata": {},
   "source": [
    "Let's start going through them!\n",
    "\n",
    "## Area"
   ]
  },
  {
   "cell_type": "code",
   "execution_count": null,
   "metadata": {
    "ExecuteTime": {
     "end_time": "2019-03-25T19:46:27.945536Z",
     "start_time": "2019-03-25T19:46:27.800888Z"
    }
   },
   "outputs": [],
   "source": [
    "df2.plot.area()"
   ]
  },
  {
   "cell_type": "code",
   "execution_count": null,
   "metadata": {
    "ExecuteTime": {
     "end_time": "2019-03-25T19:46:31.716816Z",
     "start_time": "2019-03-25T19:46:31.570207Z"
    }
   },
   "outputs": [],
   "source": [
    "# For transparency on area plot use alpha\n",
    "df2.plot.area(alpha = 0.4)"
   ]
  },
  {
   "cell_type": "markdown",
   "metadata": {},
   "source": [
    "## Barplots"
   ]
  },
  {
   "cell_type": "code",
   "execution_count": null,
   "metadata": {
    "ExecuteTime": {
     "end_time": "2019-03-25T19:46:32.118401Z",
     "start_time": "2019-03-25T19:46:32.110458Z"
    }
   },
   "outputs": [],
   "source": [
    "df2"
   ]
  },
  {
   "cell_type": "code",
   "execution_count": null,
   "metadata": {
    "ExecuteTime": {
     "end_time": "2019-03-25T19:46:32.338868Z",
     "start_time": "2019-03-25T19:46:32.150351Z"
    }
   },
   "outputs": [],
   "source": [
    "df2.plot.bar()"
   ]
  },
  {
   "cell_type": "markdown",
   "metadata": {},
   "source": [
    "* As df is small and with sequential index then we do the bar plotting, if index is categorical then as a category it will list each category as column\n",
    "* We can create bar plot to be stacked by passing in stacked = True"
   ]
  },
  {
   "cell_type": "code",
   "execution_count": null,
   "metadata": {
    "ExecuteTime": {
     "end_time": "2019-03-25T19:46:32.533348Z",
     "start_time": "2019-03-25T19:46:32.340806Z"
    },
    "scrolled": true
   },
   "outputs": [],
   "source": [
    "df2.plot.bar(stacked = True)"
   ]
  },
  {
   "cell_type": "markdown",
   "metadata": {},
   "source": [
    "## Histograms"
   ]
  },
  {
   "cell_type": "code",
   "execution_count": null,
   "metadata": {
    "ExecuteTime": {
     "end_time": "2019-03-25T19:46:32.709819Z",
     "start_time": "2019-03-25T19:46:32.534326Z"
    },
    "scrolled": false
   },
   "outputs": [],
   "source": [
    "df1['A'].plot.hist(bins=50)"
   ]
  },
  {
   "cell_type": "markdown",
   "metadata": {},
   "source": [
    "## Line Plots"
   ]
  },
  {
   "cell_type": "code",
   "execution_count": null,
   "metadata": {
    "ExecuteTime": {
     "end_time": "2019-03-25T19:46:32.713809Z",
     "start_time": "2019-03-25T19:46:32.711814Z"
    }
   },
   "outputs": [],
   "source": [
    "# df1.plot.line(x=df1.index,y=\"A\",figsize=(12,3),lw=1)\n",
    "# line parameter calls the lineplot, and we have to specify x and y, x is actual index  "
   ]
  },
  {
   "cell_type": "markdown",
   "metadata": {},
   "source": [
    "## Scatter Plots"
   ]
  },
  {
   "cell_type": "code",
   "execution_count": null,
   "metadata": {
    "ExecuteTime": {
     "end_time": "2019-03-25T19:46:32.864465Z",
     "start_time": "2019-03-25T19:46:32.714806Z"
    }
   },
   "outputs": [],
   "source": [
    "df1.plot.scatter(x='A',y='B')\n",
    "# Creates scatter plot"
   ]
  },
  {
   "cell_type": "markdown",
   "metadata": {},
   "source": [
    "You can use c to color based off another column value\n",
    "Use cmap to indicate colormap to use. \n",
    "For all the colormaps, check out: http://matplotlib.org/users/colormaps.html"
   ]
  },
  {
   "cell_type": "code",
   "execution_count": null,
   "metadata": {
    "ExecuteTime": {
     "end_time": "2019-03-25T19:46:33.071889Z",
     "start_time": "2019-03-25T19:46:32.865403Z"
    }
   },
   "outputs": [],
   "source": [
    "df1.plot.scatter(x='A',y='B',c='C')"
   ]
  },
  {
   "cell_type": "markdown",
   "metadata": {},
   "source": [
    "* Set the colour based off of another column using c = 'Column_name'\n",
    "* On running that we get a black and white plot\n",
    "* What happens is we have A, B and C a 3-D plot as we have a v/s b and third argument c as well comes into picture."
   ]
  },
  {
   "cell_type": "code",
   "execution_count": null,
   "metadata": {
    "ExecuteTime": {
     "end_time": "2019-03-25T19:46:33.286333Z",
     "start_time": "2019-03-25T19:46:33.072848Z"
    }
   },
   "outputs": [],
   "source": [
    "df1.plot.scatter(x='A',y='B',c='C',cmap='magma')"
   ]
  },
  {
   "cell_type": "markdown",
   "metadata": {},
   "source": [
    "* If one prefers to show things by size and not by colour then instead what we can do is pass in s and dataframe column to it."
   ]
  },
  {
   "cell_type": "code",
   "execution_count": null,
   "metadata": {
    "ExecuteTime": {
     "end_time": "2019-03-25T19:46:33.412939Z",
     "start_time": "2019-03-25T19:46:33.287275Z"
    }
   },
   "outputs": [],
   "source": [
    "df1.plot.scatter(x='A',y='B',s=df1['C'])"
   ]
  },
  {
   "cell_type": "code",
   "execution_count": null,
   "metadata": {
    "ExecuteTime": {
     "end_time": "2019-03-25T19:46:33.553600Z",
     "start_time": "2019-03-25T19:46:33.414935Z"
    }
   },
   "outputs": [],
   "source": [
    "df1.plot.scatter(x='A',y='B',s=df1['C']*10) # points too small, multiply by some factor\n",
    "# Plot is A vs B and size tells their C value relative to each other."
   ]
  },
  {
   "cell_type": "markdown",
   "metadata": {},
   "source": [
    "## BoxPlots"
   ]
  },
  {
   "cell_type": "code",
   "execution_count": null,
   "metadata": {
    "ExecuteTime": {
     "end_time": "2019-03-25T19:46:33.682258Z",
     "start_time": "2019-03-25T19:46:33.556564Z"
    }
   },
   "outputs": [],
   "source": [
    "df2.plot.box() # Box plot done for us per column"
   ]
  },
  {
   "cell_type": "markdown",
   "metadata": {},
   "source": [
    "## Hexagonal Bin Plot\n",
    "\n",
    "Useful for Bivariate Data, alternative to scatterplot:"
   ]
  },
  {
   "cell_type": "code",
   "execution_count": null,
   "metadata": {
    "ExecuteTime": {
     "end_time": "2019-03-25T19:46:46.062049Z",
     "start_time": "2019-03-25T19:46:45.726948Z"
    }
   },
   "outputs": [],
   "source": [
    "df = pd.DataFrame(np.random.randn(1000, 2), columns=['a', 'b'])\n",
    "df.plot.hexbin(x='a',y='b')\n",
    "# Like a scatter-plot instead these are hexagonal bins."
   ]
  },
  {
   "cell_type": "code",
   "execution_count": null,
   "metadata": {
    "ExecuteTime": {
     "end_time": "2019-03-25T19:46:46.405133Z",
     "start_time": "2019-03-25T19:46:46.223581Z"
    }
   },
   "outputs": [],
   "source": [
    "# Change gridsize to increase the hexagonal bin size\n",
    "# Hexagonals are more darker when there are more points inside them.\n",
    "df.plot.hexbin(x='a',y='b',gridsize=25)"
   ]
  },
  {
   "cell_type": "code",
   "execution_count": null,
   "metadata": {
    "ExecuteTime": {
     "end_time": "2019-03-25T19:46:46.588666Z",
     "start_time": "2019-03-25T19:46:46.406094Z"
    }
   },
   "outputs": [],
   "source": [
    "df.plot.hexbin(x='a',y='b',gridsize=25,cmap='coolwarm')"
   ]
  },
  {
   "cell_type": "markdown",
   "metadata": {},
   "source": [
    "## Kernel Density Estimation plot (KDE)"
   ]
  },
  {
   "cell_type": "code",
   "execution_count": null,
   "metadata": {
    "ExecuteTime": {
     "end_time": "2019-03-25T19:46:46.696328Z",
     "start_time": "2019-03-25T19:46:46.589660Z"
    }
   },
   "outputs": [],
   "source": [
    "# Call column and plot.kde()\n",
    "df2['a'].plot.kde() # instead of kde() , density() can be called too"
   ]
  },
  {
   "cell_type": "code",
   "execution_count": null,
   "metadata": {
    "ExecuteTime": {
     "end_time": "2019-03-25T19:46:46.861912Z",
     "start_time": "2019-03-25T19:46:46.699349Z"
    }
   },
   "outputs": [],
   "source": [
    "df2['a'].plot.density()"
   ]
  },
  {
   "cell_type": "code",
   "execution_count": null,
   "metadata": {
    "ExecuteTime": {
     "end_time": "2019-03-25T19:46:47.022445Z",
     "start_time": "2019-03-25T19:46:46.864871Z"
    }
   },
   "outputs": [],
   "source": [
    "# Can be done for entire DataFrame as well KDE/Density\n",
    "df2.plot.kde()"
   ]
  },
  {
   "cell_type": "markdown",
   "metadata": {},
   "source": [
    "That's it! Hopefully you can see why this method of plotting will be a lot easier to use than full-on matplotlib, it balances ease of use with control over the figure. A lot of the plot calls also accept additional arguments of their parent matplotlib plt. call. \n",
    "\n",
    "Next we will learn about seaborn, which is a statistical visualization library designed to work with pandas dataframes well.\n",
    "\n",
    "Before that though, we'll have a quick exercise for you!\n",
    "\n",
    "# Great Job!"
   ]
  }
 ],
 "metadata": {
  "kernelspec": {
   "display_name": "Python 3",
   "language": "python",
   "name": "python3"
  },
  "language_info": {
   "codemirror_mode": {
    "name": "ipython",
    "version": 3
   },
   "file_extension": ".py",
   "mimetype": "text/x-python",
   "name": "python",
   "nbconvert_exporter": "python",
   "pygments_lexer": "ipython3",
   "version": "3.6.8"
  },
  "toc": {
   "base_numbering": 1,
   "nav_menu": {},
   "number_sections": true,
   "sideBar": true,
   "skip_h1_title": false,
   "title_cell": "Table of Contents",
   "title_sidebar": "Contents",
   "toc_cell": false,
   "toc_position": {},
   "toc_section_display": true,
   "toc_window_display": false
  },
  "varInspector": {
   "cols": {
    "lenName": 16,
    "lenType": 16,
    "lenVar": 40
   },
   "kernels_config": {
    "python": {
     "delete_cmd_postfix": "",
     "delete_cmd_prefix": "del ",
     "library": "var_list.py",
     "varRefreshCmd": "print(var_dic_list())"
    },
    "r": {
     "delete_cmd_postfix": ") ",
     "delete_cmd_prefix": "rm(",
     "library": "var_list.r",
     "varRefreshCmd": "cat(var_dic_list()) "
    }
   },
   "types_to_exclude": [
    "module",
    "function",
    "builtin_function_or_method",
    "instance",
    "_Feature"
   ],
   "window_display": false
  }
 },
 "nbformat": 4,
 "nbformat_minor": 2
}
