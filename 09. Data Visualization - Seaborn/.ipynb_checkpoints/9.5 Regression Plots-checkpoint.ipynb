{
 "cells": [
  {
   "cell_type": "markdown",
   "metadata": {},
   "source": [
    "___\n",
    "\n",
    "<a href='https://github.com/ai-vithink'> <img src='https://avatars1.githubusercontent.com/u/41588940?s=200&v=4' /></a>\n",
    "___"
   ]
  },
  {
   "cell_type": "markdown",
   "metadata": {},
   "source": [
    "# Regression Plots\n",
    "\n",
    "Seaborn has many built-in capabilities for regression plots, however we won't really discuss regression until the machine learning section of the course, so we will only cover the **lmplot()** function for now.\n",
    "\n",
    "**lmplot** allows you to display linear models, but it also conveniently allows you to split up those plots based off of features, as well as coloring the hue based off of features.\n",
    "\n",
    "Let's explore how this works:"
   ]
  },
  {
   "cell_type": "code",
   "execution_count": null,
   "metadata": {
    "ExecuteTime": {
     "end_time": "2019-03-24T10:32:15.452349Z",
     "start_time": "2019-03-24T10:32:14.836953Z"
    }
   },
   "outputs": [],
   "source": [
    "import seaborn as sns\n",
    "import matplotlib.pyplot as plt\n",
    "%matplotlib inline"
   ]
  },
  {
   "cell_type": "code",
   "execution_count": null,
   "metadata": {
    "ExecuteTime": {
     "end_time": "2019-03-24T10:35:49.103037Z",
     "start_time": "2019-03-24T10:35:49.098102Z"
    }
   },
   "outputs": [],
   "source": [
    "from IPython.display import HTML\n",
    "HTML('''<script>\n",
    "code_show_err=false; \n",
    "function code_toggle_err() {\n",
    " if (code_show_err){\n",
    " $('div.output_stderr').hide();\n",
    " } else {\n",
    " $('div.output_stderr').show();\n",
    " }\n",
    " code_show_err = !code_show_err\n",
    "} \n",
    "$( document ).ready(code_toggle_err);\n",
    "</script>\n",
    "To toggle on/off output_stderr, click <a href=\"javascript:code_toggle_err()\">here</a>.''')\n",
    "# To hide warnings, which won't change the desired outcome."
   ]
  },
  {
   "cell_type": "code",
   "execution_count": null,
   "metadata": {
    "ExecuteTime": {
     "end_time": "2019-03-24T10:32:15.826543Z",
     "start_time": "2019-03-24T10:32:15.823549Z"
    }
   },
   "outputs": [],
   "source": [
    "%%HTML\n",
    "<style type=\"text/css\">\n",
    "table.dataframe td, table.dataframe th {\n",
    "    border: 3px  black solid !important;\n",
    "  color: black !important;\n",
    "}\n",
    "# For having gridlines "
   ]
  },
  {
   "cell_type": "code",
   "execution_count": null,
   "metadata": {
    "ExecuteTime": {
     "end_time": "2019-03-24T10:32:16.225959Z",
     "start_time": "2019-03-24T10:32:16.221968Z"
    }
   },
   "outputs": [],
   "source": [
    "import warnings\n",
    "warnings.filterwarnings(\"ignore\")\n",
    "sns.set_style('darkgrid')"
   ]
  },
  {
   "cell_type": "code",
   "execution_count": null,
   "metadata": {
    "ExecuteTime": {
     "end_time": "2019-03-24T10:32:16.616944Z",
     "start_time": "2019-03-24T10:32:16.574118Z"
    }
   },
   "outputs": [],
   "source": [
    "tips = sns.load_dataset('tips')\n",
    "tips.head()"
   ]
  },
  {
   "cell_type": "code",
   "execution_count": null,
   "metadata": {
    "ExecuteTime": {
     "end_time": "2019-03-24T10:32:17.171909Z",
     "start_time": "2019-03-24T10:32:16.974402Z"
    }
   },
   "outputs": [],
   "source": [
    "# Simple linear plot using lmplot\n",
    "# Feature you want on x axis vs the feature on y axis\n",
    "sns.lmplot(x='total_bill', y='tip', data=tips)\n",
    "# Gives us a scatter plot with linear fit on top of it."
   ]
  },
  {
   "cell_type": "code",
   "execution_count": null,
   "metadata": {
    "ExecuteTime": {
     "end_time": "2019-03-24T10:32:17.724752Z",
     "start_time": "2019-03-24T10:32:17.415523Z"
    }
   },
   "outputs": [],
   "source": [
    "sns.lmplot(x = 'total_bill', y = 'tip',data = tips,hue =\"sex\")"
   ]
  },
  {
   "cell_type": "markdown",
   "metadata": {},
   "source": [
    "* Hue to have some separation based off of a categorical label/feature/column.\n",
    "* Gives us 2 scatter plots and 2 linear fits.\n",
    "* It tells us male and females have almost same linear fit on basis of total_bill vs tip given.\n",
    "* Also we can pass in matplotlib style markers and marker types"
   ]
  },
  {
   "cell_type": "markdown",
   "metadata": {},
   "source": [
    "### Working with Markers\n",
    "\n",
    "lmplot kwargs get passed through to **regplot** which is a more general form of lmplot(). regplot has a scatter_kws parameter that gets passed to plt.scatter. So you want to set the s parameter in that dictionary, which corresponds (a bit confusingly) to the squared markersize. In other words you end up passing a dictionary with the base matplotlib arguments, in this case, s for size of a scatter plot. In general, you probably won't remember this off the top of your head, but instead reference the documentation."
   ]
  },
  {
   "cell_type": "code",
   "execution_count": null,
   "metadata": {
    "ExecuteTime": {
     "end_time": "2019-03-24T10:32:19.175094Z",
     "start_time": "2019-03-24T10:32:18.862927Z"
    }
   },
   "outputs": [],
   "source": [
    "sns.lmplot(x = 'total_bill', y = 'tip',data = tips,hue =\"sex\",markers=['o','v'])\n",
    "# List of markers = [] passed as hue has 2 elements."
   ]
  },
  {
   "cell_type": "code",
   "execution_count": null,
   "metadata": {
    "ExecuteTime": {
     "end_time": "2019-03-24T10:32:19.607109Z",
     "start_time": "2019-03-24T10:32:19.286943Z"
    }
   },
   "outputs": [],
   "source": [
    "# If the plot is small for you then we can pass in a scatter_kws parameter to sns, which makes use of matplotlib internally.\n",
    "# Seaborn calls matplotlib under the hood, and we can affect matplotlib from seaborn by passing parameter as dict.\n",
    "sns.lmplot(x = 'total_bill', y = 'tip',data = tips,hue =\"sex\",markers=['o','v'],scatter_kws={\"s\":100})\n",
    "# See how marker size increases. s stands for size.\n",
    "# Reference these in documentation, though this degree of modification is not needed everyday."
   ]
  },
  {
   "cell_type": "markdown",
   "metadata": {},
   "source": [
    "## Using a Grid\n",
    "\n",
    "We can add more variable separation through columns and rows with the use of a grid. Just indicate this with the col or row arguments:"
   ]
  },
  {
   "cell_type": "code",
   "execution_count": null,
   "metadata": {
    "ExecuteTime": {
     "end_time": "2019-03-24T10:32:20.639064Z",
     "start_time": "2019-03-24T10:32:20.278030Z"
    }
   },
   "outputs": [],
   "source": [
    "# Instead of separating by hue we can also use a grid.\n",
    "sns.lmplot(x = 'total_bill', y = 'tip',data = tips,col='sex')\n",
    "# col gives us 2 separate columns separated by sex category instead of separation by colour as we do using hue.\n"
   ]
  },
  {
   "cell_type": "code",
   "execution_count": null,
   "metadata": {
    "ExecuteTime": {
     "end_time": "2019-03-24T10:32:21.377091Z",
     "start_time": "2019-03-24T10:32:20.685904Z"
    }
   },
   "outputs": [],
   "source": [
    "# Similarly we can do grids of row and col simultaneouly as well in the following manner\n",
    "sns.lmplot(x = 'total_bill', y = 'tip',data = tips,col='sex',row='time')"
   ]
  },
  {
   "cell_type": "code",
   "execution_count": null,
   "metadata": {
    "ExecuteTime": {
     "end_time": "2019-03-24T10:32:23.095635Z",
     "start_time": "2019-03-24T10:32:21.426953Z"
    }
   },
   "outputs": [],
   "source": [
    "# If you want to plot even more labels then we can use hue with row and col as well simultaneously resulting in :\n",
    "sns.lmplot(x = 'total_bill', y = 'tip',data = tips,col='day',row='time',hue='sex')\n",
    "# Too much info, try eliminating something."
   ]
  },
  {
   "cell_type": "code",
   "execution_count": null,
   "metadata": {
    "ExecuteTime": {
     "end_time": "2019-03-24T10:32:24.233556Z",
     "start_time": "2019-03-24T10:32:23.145465Z"
    }
   },
   "outputs": [],
   "source": [
    "sns.lmplot(x = 'total_bill', y = 'tip',data = tips,col='day',hue='sex')\n",
    "# Better now, but size and aspect looks odd and hard to read."
   ]
  },
  {
   "cell_type": "markdown",
   "metadata": {},
   "source": [
    "## Aspect and Size\n",
    "\n",
    "Seaborn figures can have their size and aspect ratio adjusted with the **size** and **aspect** parameters:"
   ]
  },
  {
   "cell_type": "code",
   "execution_count": null,
   "metadata": {
    "ExecuteTime": {
     "end_time": "2019-03-24T10:32:25.399437Z",
     "start_time": "2019-03-24T10:32:24.281428Z"
    }
   },
   "outputs": [],
   "source": [
    "# We can change ratio of height and width called aspect\n",
    "sns.lmplot(x = 'total_bill', y = 'tip',data = tips,col='day',hue='sex',aspect=0.6,size=8)\n",
    "# Much better but still font-size looks kinda small right ?"
   ]
  },
  {
   "cell_type": "markdown",
   "metadata": {},
   "source": [
    "* NOTE : For more advanced features like setting the marker size, or changing marker type, please refer the documentation.\n",
    "* [Documentation Regression Plot - Seaborn](https://seaborn.pydata.org/generated/seaborn.regplot.html)"
   ]
  },
  {
   "cell_type": "markdown",
   "metadata": {},
   "source": [
    "# Up Next : Font Size, Styling, Colour etc."
   ]
  }
 ],
 "metadata": {
  "kernelspec": {
   "display_name": "Python 3",
   "language": "python",
   "name": "python3"
  },
  "language_info": {
   "codemirror_mode": {
    "name": "ipython",
    "version": 3
   },
   "file_extension": ".py",
   "mimetype": "text/x-python",
   "name": "python",
   "nbconvert_exporter": "python",
   "pygments_lexer": "ipython3",
   "version": "3.6.8"
  },
  "toc": {
   "base_numbering": 1,
   "nav_menu": {},
   "number_sections": true,
   "sideBar": true,
   "skip_h1_title": false,
   "title_cell": "Table of Contents",
   "title_sidebar": "Contents",
   "toc_cell": false,
   "toc_position": {},
   "toc_section_display": true,
   "toc_window_display": false
  },
  "varInspector": {
   "cols": {
    "lenName": 16,
    "lenType": 16,
    "lenVar": 40
   },
   "kernels_config": {
    "python": {
     "delete_cmd_postfix": "",
     "delete_cmd_prefix": "del ",
     "library": "var_list.py",
     "varRefreshCmd": "print(var_dic_list())"
    },
    "r": {
     "delete_cmd_postfix": ") ",
     "delete_cmd_prefix": "rm(",
     "library": "var_list.r",
     "varRefreshCmd": "cat(var_dic_list()) "
    }
   },
   "types_to_exclude": [
    "module",
    "function",
    "builtin_function_or_method",
    "instance",
    "_Feature"
   ],
   "window_display": false
  }
 },
 "nbformat": 4,
 "nbformat_minor": 2
}
